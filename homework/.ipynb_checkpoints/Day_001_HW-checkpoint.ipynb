{
 "cells": [
  {
   "cell_type": "markdown",
   "metadata": {},
   "source": [
    "## 練習時間\n",
    "#### 請寫一個函式用來計算 Mean Square Error\n",
    "$ MSE = \\frac{1}{n}\\sum_{i=1}^{n}{(Y_i - \\hat{Y}_i)^2} $\n",
    "\n",
    "### Hint: [如何取平方](https://googoodesign.gitbooks.io/-ezpython/unit-1.html)"
   ]
  },
  {
   "cell_type": "markdown",
   "metadata": {},
   "source": [
    "# [作業目標]\n",
    "- 仿造範例的MAE函數, 自己寫一個MSE函數(參考上面公式)"
   ]
  },
  {
   "cell_type": "markdown",
   "metadata": {},
   "source": [
    "# [作業重點]\n",
    "- 注意程式的縮排\n",
    "- 是否能將數學公式, 轉換為 Python 的函式組合? (In[2], Out[2])"
   ]
  },
  {
   "cell_type": "code",
   "execution_count": 1,
   "metadata": {},
   "outputs": [],
   "source": [
    "# 載入基礎套件與代稱\n",
    "import numpy as np\n",
    "import matplotlib.pyplot as plt"
   ]
  },
  {
   "cell_type": "code",
   "execution_count": 2,
   "metadata": {},
   "outputs": [],
   "source": [
    "def mean_absolute_error(y, yp):\n",
    "    \"\"\"\n",
    "    計算 MAE\n",
    "    Args:\n",
    "        - y: 實際值\n",
    "        - yp: 預測值\n",
    "    Return:\n",
    "        - mae: MAE\n",
    "    \"\"\"\n",
    "    mae = MAE = sum(abs(y - yp)) / len(y)\n",
    "    return mae\n",
    "\n",
    "# 定義 mean_squared_error 這個函數, 計算並傳回 MSE\n",
    "def mean_squared_error(y, yp):\n",
    "    \"\"\"\n",
    "    計算 MSE\n",
    "    Args:\n",
    "        - y: 實際值\n",
    "        - yp: 預測值\n",
    "    Return:\n",
    "        - mse: MSE\n",
    "    \"\"\"\n",
    "    mse = sum((y - yp)**2) / len(y)\n",
    "    return mse"
   ]
  },
  {
   "cell_type": "code",
   "execution_count": 3,
   "metadata": {},
   "outputs": [
    {
     "data": {
      "image/png": "[encoded data removed]",
      "text/plain": [
       "<Figure size 432x288 with 1 Axes>"
      ]
     },
     "metadata": {
      "needs_background": "light"
     },
     "output_type": "display_data"
    }
   ],
   "source": [
    "# 與範例相同, 不另外解說\n",
    "w = 3\n",
    "b = 0.5\n",
    "x_lin = np.linspace(0, 100, 101)\n",
    "y = (x_lin + np.random.randn(101) * 5) * w + b\n",
    "\n",
    "plt.plot(x_lin, y, 'b.', label = 'data points')\n",
    "plt.title(\"Assume we have data points\")\n",
    "plt.legend(loc = 2)\n",
    "plt.show()"
   ]
  },
  {
   "cell_type": "code",
   "execution_count": 4,
   "metadata": {},
   "outputs": [
    {
     "data": {
      "image/png": "[encoded data removed]",
      "text/plain": [
       "<Figure size 432x288 with 1 Axes>"
      ]
     },
     "metadata": {
      "needs_background": "light"
     },
     "output_type": "display_data"
    }
   ],
   "source": [
    "# 與範例相同, 不另外解說\n",
    "y_hat = x_lin * w + b\n",
    "plt.plot(x_lin, y, 'b.', label = 'data')\n",
    "plt.plot(x_lin, y_hat, 'r-', label = 'prediction')\n",
    "plt.title(\"Assume we have data points (And the prediction)\")\n",
    "plt.legend(loc = 2)\n",
    "plt.show()"
   ]
  },
  {
   "cell_type": "code",
   "execution_count": 5,
   "metadata": {},
   "outputs": [
    {
     "name": "stdout",
     "output_type": "stream",
     "text": [
      "The Mean squared error is 196.501\n",
      "The Mean absolute error is 11.036\n"
     ]
    }
   ],
   "source": [
    "# 執行 Function, 確認有沒有正常執行\n",
    "MSE = mean_squared_error(y, y_hat)\n",
    "MAE = mean_absolute_error(y, y_hat)\n",
    "print(\"The Mean squared error is %.3f\" % (MSE))\n",
    "print(\"The Mean absolute error is %.3f\" % (MAE))"
   ]
  },
  {
   "cell_type": "markdown",
   "metadata": {},
   "source": [
    "# [作業2]\n",
    "\n",
    "請上 Kaggle, 在 Competitions 或 Dataset 中找一組競賽或資料並寫下：\n",
    "\n",
    "    我選擇 Kaggle Competitions中，Titanic: Machine Learning from Disaster。\n",
    "\n",
    "1. 你選的這組資料為何重要?\n",
    "    \n",
    "    在這競賽中，主要目的是透過船上人員的資料，來分類出在鐵達尼號上存活與否。\n",
    "    此競賽為二元分類問題，對於機器學習入門的新手，也是較容易去完成的。\n",
    "    能夠參考此次經驗，根據經驗提高下一次船難發生時，存活的機率。\n",
    "   \n",
    "2. 資料從何而來? (tips: 譬如提供者是誰、以什麼方式蒐集)\n",
    "    \n",
    "    資料提供者:Kaggle團隊\n",
    "    \n",
    "3. 蒐集而來的資料型態為何?\n",
    "    \n",
    "\n",
    "|Variable\t|Definition|\tKey|\n",
    "|-----------|----------|-------|\n",
    "|survival\t|Survival\t|0 = No, 1 = Yes|\n",
    "|pclass\t|Ticket class\t|1 = 1st, 2 = 2nd, 3 = 3rd|\n",
    "|sex\t|Sex|\t|\n",
    "|Age\t|Age in years\t| |\n",
    "|sibsp\t|# of siblings / spouses aboard the Titanic\t| |\n",
    "|parch\t|# of parents / children aboard the Titanic| |\t\n",
    "|ticket\t|Ticket number\t| |\n",
    "|fare\t|Passenger fare\t| |\n",
    "|cabin\t|Cabin number\t| |\n",
    "|embarked|\tPort of Embarkation|\tC = Cherbourg, Q = Queenstown, S = Southampton|\n",
    "\n",
    "4. 這組資料想解決的問題如何評估\n",
    "    \n",
    "    此組資料需要預測是否存活(Survival = Yes or No)。\n",
    "    評估的方式為正確率:\n",
    "    $\\frac{正確預測資料}{所有資料}\\$\n",
    "    \n",
    "    \n",
    "\n",
    "# [作業3]\n",
    "\n",
    "想像你經營一個自由載客車隊，你希望能透過數據分析以提升業績，請你思考並描述你如何規劃整體的分析/解決方案：\n",
    "\n",
    "1. 核心問題為何? (tips：如何定義 「提升業績 & 你的假設」)\n",
    "    \n",
    "    假設:人流大的地方，需要的車輛多且業績也多，呈正向關係。\n",
    "    提升業績的方式，在人流大的地方安排較多的車。\n",
    "    \n",
    "2. 資料從何而來? (tips：哪些資料可能會對你想問的問題產生影響 & 資料如何蒐集)\n",
    "    \n",
    "    時間與地區的人流關係。\n",
    "    地區與人流中，族群的分類。(上班族、學生、...、等)\n",
    "    時間與人流中，搭乘目的。(上班、上學、買菜、...、等)\n",
    "    \n",
    "    資料蒐集，由司機回報或客戶回饋。\n",
    "    \n",
    "    \n",
    "3. 蒐集而來的資料型態為何?\n",
    "\n",
    "   地區中，每個時段的人數\n",
    "   地區與搭乘人員的族群\n",
    "   地區中，每個時段，搭乘人員目的\n",
    "\n",
    "4. 你要回答的問題，其如何評估? (tips：你的假設如何驗證)\n",
    "    \n",
    "    一、人流大的地方，安排較多車輛，是否造成供過於求的現象?(車比搭乘人還多)\n",
    "        減少車輛。\n",
    "    二、人流小的地方，安排較少車輛，是否造成供給不足的現象?(車不足以載客)\n",
    "        增加車輛。\n",
    "    當第一點與第二點達到平衡時，檢驗是否人流大的地方車輛需求大於人流小的地方。\n",
    "    \n"
   ]
  },
  {
   "cell_type": "code",
   "execution_count": null,
   "metadata": {},
   "outputs": [],
   "source": []
  }
 ],
 "metadata": {
  "anaconda-cloud": {},
  "kernelspec": {
   "display_name": "Python 3",
   "language": "python",
   "name": "python3"
  },
  "language_info": {
   "codemirror_mode": {
    "name": "ipython",
    "version": 3
   },
   "file_extension": ".py",
   "mimetype": "text/x-python",
   "name": "python",
   "nbconvert_exporter": "python",
   "pygments_lexer": "ipython3",
   "version": "3.7.3"
  }
 },
 "nbformat": 4,
 "nbformat_minor": 1
}
