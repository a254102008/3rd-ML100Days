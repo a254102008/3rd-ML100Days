{
 "cells": [
  {
   "cell_type": "markdown",
   "metadata": {},
   "source": [
    "## Work\n",
    "1. 請嘗試寫一個 callback 用來記錄各類別在訓練過程中，對驗證集的 True Positive 與 True Negative"
   ]
  },
  {
   "cell_type": "code",
   "execution_count": 1,
   "metadata": {},
   "outputs": [
    {
     "name": "stderr",
     "output_type": "stream",
     "text": [
      "Using TensorFlow backend.\n"
     ]
    }
   ],
   "source": [
    "import os\n",
    "import keras\n",
    "\n",
    "# Disable GPU\n",
    "os.environ[\"CUDA_VISIBLE_DEVICES\"] = \"0\""
   ]
  },
  {
   "cell_type": "code",
   "execution_count": 2,
   "metadata": {},
   "outputs": [],
   "source": [
    "train, test = keras.datasets.cifar10.load_data()"
   ]
  },
  {
   "cell_type": "code",
   "execution_count": 3,
   "metadata": {},
   "outputs": [],
   "source": [
    "## 資料前處理\n",
    "def preproc_x(x, flatten=True):\n",
    "    x = x / 255.\n",
    "    if flatten:\n",
    "        x = x.reshape((len(x), -1))\n",
    "    return x\n",
    "\n",
    "def preproc_y(y, num_classes=10):\n",
    "    if y.shape[-1] == 1:\n",
    "        y = keras.utils.to_categorical(y, num_classes)\n",
    "    return y    "
   ]
  },
  {
   "cell_type": "code",
   "execution_count": 4,
   "metadata": {},
   "outputs": [],
   "source": [
    "x_train, y_train = train\n",
    "x_test, y_test = test\n",
    "\n",
    "# Preproc the inputs\n",
    "x_train = preproc_x(x_train)\n",
    "x_test = preproc_x(x_test)\n",
    "\n",
    "# Preprc the outputs\n",
    "y_train = preproc_y(y_train)\n",
    "y_test = preproc_y(y_test)"
   ]
  },
  {
   "cell_type": "code",
   "execution_count": 5,
   "metadata": {},
   "outputs": [],
   "source": [
    "from keras.layers import BatchNormalization\n",
    "def build_mlp(input_shape, output_units=10, num_neurons=[512, 256, 128]):\n",
    "    input_layer = keras.layers.Input(input_shape)\n",
    "    \n",
    "    for i, n_units in enumerate(num_neurons):\n",
    "        if i == 0:\n",
    "            x = keras.layers.Dense(units=n_units, \n",
    "                                   activation=\"relu\", \n",
    "                                   name=\"hidden_layer\"+str(i+1))(input_layer)\n",
    "            x = BatchNormalization()(x)\n",
    "        else:\n",
    "            x = keras.layers.Dense(units=n_units, \n",
    "                                   activation=\"relu\", \n",
    "                                   name=\"hidden_layer\"+str(i+1))(x)\n",
    "            x = BatchNormalization()(x)\n",
    "    \n",
    "    out = keras.layers.Dense(units=output_units, activation=\"softmax\", name=\"output\")(x)\n",
    "    \n",
    "    model = keras.models.Model(inputs=[input_layer], outputs=[out])\n",
    "    return model"
   ]
  },
  {
   "cell_type": "code",
   "execution_count": 6,
   "metadata": {},
   "outputs": [],
   "source": [
    "## 超參數設定\n",
    "LEARNING_RATE = 1e-3\n",
    "EPOCHS = 25\n",
    "BATCH_SIZE = 1024\n",
    "MOMENTUM = 0.95"
   ]
  },
  {
   "cell_type": "code",
   "execution_count": 7,
   "metadata": {},
   "outputs": [],
   "source": [
    "# 載入 Callbacks\n",
    "from keras.callbacks import Callback\n",
    "import numpy as np\n",
    "\n",
    "# Record_fp_tp\n",
    "class Record_tp_tn(Callback):\n",
    "    \"\"\"Code Here\n",
    "    撰寫一個紀錄 ture positive 與 true negative 數量的 callbacks    \n",
    "    \"\"\"\n",
    "    def on_train_begin(self, epoch, logs = {}):\n",
    "        logs = logs or {}\n",
    "        # 驗證集的 True Positive 與 True Negative\n",
    "        record_items = [\"val_tp\", \"val_tn\", \"val_fp\", \"val_fn\"]\n",
    "        for i in record_items:\n",
    "            if i not in self.params['metrics']:\n",
    "                self.params['metrics'].append(i)\n",
    "    \n",
    "    def on_epoch_end(self, epoch, logs = {}, thres=0.5):\n",
    "        logs = logs or {}\n",
    "        # Define y_true, y_pred\n",
    "        y_true = self.validation_data[1].argmax(axis = 1)\n",
    "        y_pred = self.model.predict(self.validation_data[0])\n",
    "        y_pred = (y_pred[:, 1] >= thres) * 1\n",
    "        # Calculate True Positive, True Negative\n",
    "        logs[\"val_tp\"] = np.sum(np.logical_and(y_pred == 1, y_true == 1))\n",
    "        logs[\"val_tn\"] = np.sum(np.logical_and(y_pred == 0, y_true == 0))\n",
    "        \n",
    "rec_tptn = Record_tp_tn()"
   ]
  },
  {
   "cell_type": "code",
   "execution_count": 8,
   "metadata": {
    "scrolled": true
   },
   "outputs": [
    {
     "name": "stdout",
     "output_type": "stream",
     "text": [
      "WARNING:tensorflow:From C:\\Users\\a2541\\Anaconda3\\lib\\site-packages\\tensorflow\\python\\framework\\op_def_library.py:263: colocate_with (from tensorflow.python.framework.ops) is deprecated and will be removed in a future version.\n",
      "Instructions for updating:\n",
      "Colocations handled automatically by placer.\n",
      "_________________________________________________________________\n",
      "Layer (type)                 Output Shape              Param #   \n",
      "=================================================================\n",
      "input_1 (InputLayer)         (None, 3072)              0         \n",
      "_________________________________________________________________\n",
      "hidden_layer1 (Dense)        (None, 512)               1573376   \n",
      "_________________________________________________________________\n",
      "batch_normalization_1 (Batch (None, 512)               2048      \n",
      "_________________________________________________________________\n",
      "hidden_layer2 (Dense)        (None, 256)               131328    \n",
      "_________________________________________________________________\n",
      "batch_normalization_2 (Batch (None, 256)               1024      \n",
      "_________________________________________________________________\n",
      "hidden_layer3 (Dense)        (None, 128)               32896     \n",
      "_________________________________________________________________\n",
      "batch_normalization_3 (Batch (None, 128)               512       \n",
      "_________________________________________________________________\n",
      "output (Dense)               (None, 10)                1290      \n",
      "=================================================================\n",
      "Total params: 1,742,474\n",
      "Trainable params: 1,740,682\n",
      "Non-trainable params: 1,792\n",
      "_________________________________________________________________\n",
      "WARNING:tensorflow:From C:\\Users\\a2541\\Anaconda3\\lib\\site-packages\\tensorflow\\python\\ops\\math_ops.py:3066: to_int32 (from tensorflow.python.ops.math_ops) is deprecated and will be removed in a future version.\n",
      "Instructions for updating:\n",
      "Use tf.cast instead.\n",
      "Train on 50000 samples, validate on 10000 samples\n",
      "Epoch 1/25\n",
      "50000/50000 [==============================] - 4s 89us/step - loss: 2.2441 - acc: 0.2599 - val_loss: 2.1113 - val_acc: 0.3258\n",
      "Epoch 2/25\n",
      "50000/50000 [==============================] - 3s 60us/step - loss: 1.7501 - acc: 0.3893 - val_loss: 1.8209 - val_acc: 0.3741\n",
      "Epoch 3/25\n",
      "50000/50000 [==============================] - 3s 53us/step - loss: 1.6221 - acc: 0.4331 - val_loss: 1.7225 - val_acc: 0.4066\n",
      "Epoch 4/25\n",
      "50000/50000 [==============================] - 3s 56us/step - loss: 1.5504 - acc: 0.4557 - val_loss: 1.6394 - val_acc: 0.4287\n",
      "Epoch 5/25\n",
      "50000/50000 [==============================] - 3s 55us/step - loss: 1.4952 - acc: 0.4773 - val_loss: 1.6099 - val_acc: 0.4368\n",
      "Epoch 6/25\n",
      "50000/50000 [==============================] - 3s 55us/step - loss: 1.4511 - acc: 0.4932 - val_loss: 1.5929 - val_acc: 0.4379\n",
      "Epoch 7/25\n",
      "50000/50000 [==============================] - 3s 54us/step - loss: 1.4116 - acc: 0.5063 - val_loss: 1.5651 - val_acc: 0.4468\n",
      "Epoch 8/25\n",
      "50000/50000 [==============================] - 3s 60us/step - loss: 1.3763 - acc: 0.5200 - val_loss: 1.5452 - val_acc: 0.4571\n",
      "Epoch 9/25\n",
      "50000/50000 [==============================] - 3s 51us/step - loss: 1.3431 - acc: 0.5330 - val_loss: 1.5355 - val_acc: 0.4551\n",
      "Epoch 10/25\n",
      "50000/50000 [==============================] - 3s 50us/step - loss: 1.3161 - acc: 0.5423 - val_loss: 1.5225 - val_acc: 0.4598\n",
      "Epoch 11/25\n",
      "50000/50000 [==============================] - 3s 51us/step - loss: 1.2866 - acc: 0.5530 - val_loss: 1.5013 - val_acc: 0.4692\n",
      "Epoch 12/25\n",
      "50000/50000 [==============================] - 3s 51us/step - loss: 1.2589 - acc: 0.5639 - val_loss: 1.4927 - val_acc: 0.4745\n",
      "Epoch 13/25\n",
      "50000/50000 [==============================] - 2s 50us/step - loss: 1.2335 - acc: 0.5743 - val_loss: 1.4833 - val_acc: 0.4762\n",
      "Epoch 14/25\n",
      "50000/50000 [==============================] - 2s 50us/step - loss: 1.2098 - acc: 0.5827 - val_loss: 1.4805 - val_acc: 0.4781\n",
      "Epoch 15/25\n",
      "50000/50000 [==============================] - 3s 51us/step - loss: 1.1847 - acc: 0.5912 - val_loss: 1.4755 - val_acc: 0.4788\n",
      "Epoch 16/25\n",
      "50000/50000 [==============================] - 3s 50us/step - loss: 1.1615 - acc: 0.6013 - val_loss: 1.4739 - val_acc: 0.4797\n",
      "Epoch 17/25\n",
      "50000/50000 [==============================] - 3s 63us/step - loss: 1.1374 - acc: 0.6101 - val_loss: 1.4681 - val_acc: 0.4814\n",
      "Epoch 18/25\n",
      "50000/50000 [==============================] - 3s 54us/step - loss: 1.1158 - acc: 0.6176 - val_loss: 1.4618 - val_acc: 0.4910\n",
      "Epoch 19/25\n",
      "50000/50000 [==============================] - 3s 55us/step - loss: 1.0920 - acc: 0.6261 - val_loss: 1.4651 - val_acc: 0.4856\n",
      "Epoch 20/25\n",
      "50000/50000 [==============================] - 3s 56us/step - loss: 1.0722 - acc: 0.6352 - val_loss: 1.4674 - val_acc: 0.4873\n",
      "Epoch 21/25\n",
      "50000/50000 [==============================] - 3s 54us/step - loss: 1.0506 - acc: 0.6418 - val_loss: 1.4604 - val_acc: 0.4910\n",
      "Epoch 22/25\n",
      "50000/50000 [==============================] - 3s 54us/step - loss: 1.0300 - acc: 0.6524 - val_loss: 1.4658 - val_acc: 0.4924\n",
      "Epoch 23/25\n",
      "50000/50000 [==============================] - 3s 53us/step - loss: 1.0080 - acc: 0.6582 - val_loss: 1.4746 - val_acc: 0.4909\n",
      "Epoch 24/25\n",
      "50000/50000 [==============================] - 3s 53us/step - loss: 0.9866 - acc: 0.6680 - val_loss: 1.4668 - val_acc: 0.4927\n",
      "Epoch 25/25\n",
      "50000/50000 [==============================] - 3s 53us/step - loss: 0.9665 - acc: 0.6751 - val_loss: 1.4545 - val_acc: 0.5012\n"
     ]
    }
   ],
   "source": [
    "model = build_mlp(input_shape=x_train.shape[1:])\n",
    "model.summary()\n",
    "optimizer = keras.optimizers.SGD(lr=LEARNING_RATE, nesterov=True, momentum=MOMENTUM)\n",
    "model.compile(loss=\"categorical_crossentropy\", metrics=[\"accuracy\"], optimizer=optimizer)\n",
    "\n",
    "\"\"\"Code Here\n",
    "將 callbacks 放入模型訓練流程中\n",
    "\"\"\"\n",
    "model.fit(x_train, y_train, \n",
    "          epochs=EPOCHS, \n",
    "          batch_size=BATCH_SIZE, \n",
    "          validation_data=(x_test, y_test), \n",
    "          shuffle=True,\n",
    "          callbacks=[rec_tptn]\n",
    "         )\n",
    "\n",
    "# Collect results\n",
    "train_loss = model.history.history[\"loss\"]\n",
    "valid_loss = model.history.history[\"val_loss\"]\n",
    "train_acc = model.history.history[\"acc\"]\n",
    "valid_acc = model.history.history[\"val_acc\"]\n",
    "\n",
    "\"\"\"Code Here\n",
    "將 tp/tn 從訓練完的模型中取出\n",
    "\"\"\"\n",
    "valid_tp = model.history.history['val_tp']\n",
    "valid_tn = model.history.history['val_tn']"
   ]
  },
  {
   "cell_type": "code",
   "execution_count": 9,
   "metadata": {},
   "outputs": [
    {
     "data": {
      "image/png": "[encoded data removed]",
      "text/plain": [
       "<Figure size 432x288 with 1 Axes>"
      ]
     },
     "metadata": {
      "needs_background": "light"
     },
     "output_type": "display_data"
    },
    {
     "data": {
      "image/png": "[encoded data removed]",
      "text/plain": [
       "<Figure size 432x288 with 1 Axes>"
      ]
     },
     "metadata": {
      "needs_background": "light"
     },
     "output_type": "display_data"
    },
    {
     "data": {
      "image/png": "[encoded data removed]",
      "text/plain": [
       "<Figure size 432x288 with 1 Axes>"
      ]
     },
     "metadata": {
      "needs_background": "light"
     },
     "output_type": "display_data"
    }
   ],
   "source": [
    "import matplotlib.pyplot as plt\n",
    "%matplotlib inline\n",
    "\n",
    "plt.plot(range(len(train_loss)), train_loss, label=\"train loss\")\n",
    "plt.plot(range(len(valid_loss)), valid_loss, label=\"valid loss\")\n",
    "plt.legend()\n",
    "plt.title(\"Loss\")\n",
    "plt.show()\n",
    "\n",
    "plt.plot(range(len(train_acc)), train_acc, label=\"train accuracy\")\n",
    "plt.plot(range(len(valid_acc)), valid_acc, label=\"valid accuracy\")\n",
    "plt.legend()\n",
    "plt.title(\"Accuracy\")\n",
    "plt.show()\n",
    "\n",
    "plt.plot(range(len(valid_tp)), valid_tp, label=\"valid tp\", color=\"navy\")\n",
    "plt.plot(range(len(valid_tn)), valid_tn, label=\"valid tn\", color=\"red\")\n",
    "plt.legend()\n",
    "plt.title(\"True positives and True Negatives\")\n",
    "plt.show()\n"
   ]
  },
  {
   "cell_type": "code",
   "execution_count": null,
   "metadata": {},
   "outputs": [],
   "source": []
  }
 ],
 "metadata": {
  "kernelspec": {
   "display_name": "Python 3",
   "language": "python",
   "name": "python3"
  },
  "language_info": {
   "codemirror_mode": {
    "name": "ipython",
    "version": 3
   },
   "file_extension": ".py",
   "mimetype": "text/x-python",
   "name": "python",
   "nbconvert_exporter": "python",
   "pygments_lexer": "ipython3",
   "version": "3.7.3"
  }
 },
 "nbformat": 4,
 "nbformat_minor": 2
}
