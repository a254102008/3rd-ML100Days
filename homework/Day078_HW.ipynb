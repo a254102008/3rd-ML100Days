{
 "cells": [
  {
   "cell_type": "markdown",
   "metadata": {},
   "source": [
    "## Work\n",
    "1. 請嘗試將 preproc_x 替換成以每筆資料的 min/max 進行標準化至 -1 ~ 1 間，再進行訓練\n",
    "2. 請嘗試將 mlp 疊更深 (e.g 5~10 層)，進行訓練後觀察 learning curve 的走勢\n",
    "3. (optional) 請改用 GPU 進行訓練 (如果你有 GPU 的話)，比較使用 CPU 與 GPU 的訓練速度"
   ]
  },
  {
   "cell_type": "code",
   "execution_count": 1,
   "metadata": {},
   "outputs": [
    {
     "data": {
      "text/plain": [
       "'\\nYour code here (optional)\\n確認硬體資源\\n'"
      ]
     },
     "execution_count": 1,
     "metadata": {},
     "output_type": "execute_result"
    }
   ],
   "source": [
    "## \n",
    "\"\"\"\n",
    "Your code here (optional)\n",
    "確認硬體資源\n",
    "\"\"\"\n",
    "#!nvidia-smi"
   ]
  },
  {
   "cell_type": "code",
   "execution_count": 2,
   "metadata": {},
   "outputs": [
    {
     "name": "stderr",
     "output_type": "stream",
     "text": [
      "Using TensorFlow backend.\n"
     ]
    }
   ],
   "source": [
    "import os\n",
    "import keras\n",
    "import tensorflow as tf\n",
    "# 請嘗試設定 GPU：os.environ\n",
    "os.environ[\"CUDA_VISIBLE_DEVICES\"] = \"0\"\n",
    "\n",
    "# 自動增長 GPU 記憶體用量\n",
    "gpu_options = tf.compat.v1.GPUOptions(per_process_gpu_memory_fraction=0.55) #占用55%顯存\n",
    "sess =  tf.compat.v1.Session(config=tf.compat.v1.ConfigProto(gpu_options=gpu_options))"
   ]
  },
  {
   "cell_type": "code",
   "execution_count": 3,
   "metadata": {},
   "outputs": [],
   "source": [
    "train, test = keras.datasets.cifar10.load_data()"
   ]
  },
  {
   "cell_type": "code",
   "execution_count": 4,
   "metadata": {},
   "outputs": [],
   "source": [
    "## 資料前處理\n",
    "\"\"\"\n",
    "Your code here\n",
    "\"\"\"\n",
    "def preproc_x(x, flatten=True):\n",
    "    # 資料前處理 - 標準化\n",
    "    x = 2*(((x - x.min()) / (x.max() - x.min()))-0.5) # values from -1 to 1\n",
    "    #(x - x.min()) / (x.max() - x.min()) # values from 0 to 1\n",
    "    #(x - x.mean()) / x.std() # values from ? to ?, but mean at 0\n",
    "    if flatten:\n",
    "        # 將資料從圖形 (RGB) 轉為向量 (Single Vector)\n",
    "        x = x.reshape((len(x), -1))\n",
    "    return x\n",
    "\n",
    "def preproc_y(y, num_classes=10):\n",
    "    if y.shape[-1] == 1:\n",
    "        # 用np_utils裡的to_categorical來做one-hot encoding的轉換：\n",
    "        y = keras.utils.to_categorical(y, num_classes)\n",
    "    return y"
   ]
  },
  {
   "cell_type": "code",
   "execution_count": 5,
   "metadata": {},
   "outputs": [],
   "source": [
    "x_train, y_train = train\n",
    "x_test, y_test = test\n",
    "\n",
    "# Preproc the inputs\n",
    "x_train = preproc_x(x_train)\n",
    "x_test = preproc_x(x_test)\n",
    "\n",
    "# Preprc the outputs\n",
    "y_train = preproc_y(y_train)\n",
    "y_test = preproc_y(y_test)"
   ]
  },
  {
   "cell_type": "code",
   "execution_count": 6,
   "metadata": {},
   "outputs": [
    {
     "name": "stdout",
     "output_type": "stream",
     "text": [
      "WARNING:tensorflow:From C:\\Users\\a2541\\Anaconda3\\lib\\site-packages\\tensorflow\\python\\framework\\op_def_library.py:263: colocate_with (from tensorflow.python.framework.ops) is deprecated and will be removed in a future version.\n",
      "Instructions for updating:\n",
      "Colocations handled automatically by placer.\n",
      "_________________________________________________________________\n",
      "Layer (type)                 Output Shape              Param #   \n",
      "=================================================================\n",
      "input_1 (InputLayer)         (None, 3072)              0         \n",
      "_________________________________________________________________\n",
      "hidden_layer1 (Dense)        (None, 512)               1573376   \n",
      "_________________________________________________________________\n",
      "hidden_layer2 (Dense)        (None, 256)               131328    \n",
      "_________________________________________________________________\n",
      "hidden_layer3 (Dense)        (None, 128)               32896     \n",
      "_________________________________________________________________\n",
      "hidden_layer4 (Dense)        (None, 64)                8256      \n",
      "_________________________________________________________________\n",
      "hidden_layer5 (Dense)        (None, 32)                2080      \n",
      "_________________________________________________________________\n",
      "output (Dense)               (None, 10)                330       \n",
      "=================================================================\n",
      "Total params: 1,748,266\n",
      "Trainable params: 1,748,266\n",
      "Non-trainable params: 0\n",
      "_________________________________________________________________\n"
     ]
    }
   ],
   "source": [
    "\"\"\"Code Here\n",
    "建立你的神經網路\n",
    "\"\"\"\n",
    "def build_mlp(input_shape, output_units=10, num_neurons=[512, 256, 128,64,32]):\n",
    "    input_layer = keras.layers.Input(input_shape)\n",
    "    \n",
    "    for i, n_units in enumerate(num_neurons):\n",
    "        if i == 0:\n",
    "            x = keras.layers.Dense(units=n_units, activation=\"relu\", name=\"hidden_layer\"+str(i+1))(input_layer)\n",
    "        else:\n",
    "            x = keras.layers.Dense(units=n_units, activation=\"relu\", name=\"hidden_layer\"+str(i+1))(x)\n",
    "    \n",
    "    out = keras.layers.Dense(units=output_units, activation=\"softmax\", name=\"output\")(x)\n",
    "    \n",
    "    model = keras.models.Model(inputs=[input_layer], outputs=[out])\n",
    "    return model\n",
    "model = build_mlp(input_shape=x_train.shape[1:])\n",
    "model.summary()"
   ]
  },
  {
   "cell_type": "code",
   "execution_count": 7,
   "metadata": {},
   "outputs": [],
   "source": [
    "## 超參數設定\n",
    "LEARNING_RATE = 0.001\n",
    "EPOCHS = 100\n",
    "BATCH_SIZE = 256"
   ]
  },
  {
   "cell_type": "code",
   "execution_count": 8,
   "metadata": {},
   "outputs": [],
   "source": [
    "optimizer = keras.optimizers.Adam(lr=LEARNING_RATE)\n",
    "model.compile(loss=\"categorical_crossentropy\", metrics=[\"accuracy\"], optimizer=optimizer)"
   ]
  },
  {
   "cell_type": "code",
   "execution_count": 9,
   "metadata": {},
   "outputs": [
    {
     "name": "stdout",
     "output_type": "stream",
     "text": [
      "WARNING:tensorflow:From C:\\Users\\a2541\\Anaconda3\\lib\\site-packages\\tensorflow\\python\\ops\\math_ops.py:3066: to_int32 (from tensorflow.python.ops.math_ops) is deprecated and will be removed in a future version.\n",
      "Instructions for updating:\n",
      "Use tf.cast instead.\n",
      "Train on 50000 samples, validate on 10000 samples\n",
      "Epoch 1/100\n",
      "50000/50000 [==============================] - 10s 196us/step - loss: 1.7208 - acc: 0.3894 - val_loss: 1.5486 - val_acc: 0.4544\n",
      "Epoch 2/100\n",
      "50000/50000 [==============================] - 8s 157us/step - loss: 1.4926 - acc: 0.4710 - val_loss: 1.4646 - val_acc: 0.4814\n",
      "Epoch 3/100\n",
      "50000/50000 [==============================] - 9s 173us/step - loss: 1.3688 - acc: 0.5154 - val_loss: 1.4155 - val_acc: 0.5051\n",
      "Epoch 4/100\n",
      "50000/50000 [==============================] - 5s 102us/step - loss: 1.2701 - acc: 0.5518 - val_loss: 1.3814 - val_acc: 0.5139\n",
      "Epoch 5/100\n",
      "50000/50000 [==============================] - 3s 70us/step - loss: 1.1911 - acc: 0.5789 - val_loss: 1.3436 - val_acc: 0.5304\n",
      "Epoch 6/100\n",
      "50000/50000 [==============================] - 4s 73us/step - loss: 1.1153 - acc: 0.6080 - val_loss: 1.3824 - val_acc: 0.5234\n",
      "Epoch 7/100\n",
      "50000/50000 [==============================] - 3s 68us/step - loss: 1.0377 - acc: 0.6330 - val_loss: 1.3607 - val_acc: 0.5368\n",
      "Epoch 8/100\n",
      "50000/50000 [==============================] - 4s 70us/step - loss: 0.9661 - acc: 0.6600 - val_loss: 1.3824 - val_acc: 0.5400\n",
      "Epoch 9/100\n",
      "50000/50000 [==============================] - 3s 66us/step - loss: 0.9083 - acc: 0.6779 - val_loss: 1.3986 - val_acc: 0.5343\n",
      "Epoch 10/100\n",
      "50000/50000 [==============================] - 3s 68us/step - loss: 0.8337 - acc: 0.7053 - val_loss: 1.4419 - val_acc: 0.5325\n",
      "Epoch 11/100\n",
      "50000/50000 [==============================] - 4s 76us/step - loss: 0.7676 - acc: 0.7282 - val_loss: 1.4977 - val_acc: 0.5299\n",
      "Epoch 12/100\n",
      "50000/50000 [==============================] - 4s 75us/step - loss: 0.7015 - acc: 0.7508 - val_loss: 1.5552 - val_acc: 0.5369\n",
      "Epoch 13/100\n",
      "50000/50000 [==============================] - 4s 76us/step - loss: 0.6434 - acc: 0.7714 - val_loss: 1.6342 - val_acc: 0.5346\n",
      "Epoch 14/100\n",
      "50000/50000 [==============================] - 3s 67us/step - loss: 0.6033 - acc: 0.7860 - val_loss: 1.7054 - val_acc: 0.5352\n",
      "Epoch 15/100\n",
      "50000/50000 [==============================] - 3s 67us/step - loss: 0.5362 - acc: 0.8109 - val_loss: 1.7767 - val_acc: 0.5367\n",
      "Epoch 16/100\n",
      "50000/50000 [==============================] - 3s 66us/step - loss: 0.5027 - acc: 0.8213 - val_loss: 1.8493 - val_acc: 0.5333\n",
      "Epoch 17/100\n",
      "50000/50000 [==============================] - 3s 65us/step - loss: 0.4621 - acc: 0.8368 - val_loss: 1.9229 - val_acc: 0.5244\n",
      "Epoch 18/100\n",
      "50000/50000 [==============================] - 4s 75us/step - loss: 0.4213 - acc: 0.8513 - val_loss: 2.0119 - val_acc: 0.5222\n",
      "Epoch 19/100\n",
      "50000/50000 [==============================] - 3s 67us/step - loss: 0.3924 - acc: 0.8620 - val_loss: 2.1377 - val_acc: 0.5214\n",
      "Epoch 20/100\n",
      "50000/50000 [==============================] - 3s 66us/step - loss: 0.3540 - acc: 0.8752 - val_loss: 2.1746 - val_acc: 0.5332\n",
      "Epoch 21/100\n",
      "50000/50000 [==============================] - 3s 64us/step - loss: 0.3316 - acc: 0.8835 - val_loss: 2.3134 - val_acc: 0.5222\n",
      "Epoch 22/100\n",
      "50000/50000 [==============================] - 3s 68us/step - loss: 0.3104 - acc: 0.8925 - val_loss: 2.3962 - val_acc: 0.5288\n",
      "Epoch 23/100\n",
      "50000/50000 [==============================] - 3s 65us/step - loss: 0.3064 - acc: 0.8911 - val_loss: 2.4192 - val_acc: 0.5241\n",
      "Epoch 24/100\n",
      "50000/50000 [==============================] - 3s 69us/step - loss: 0.2732 - acc: 0.9039 - val_loss: 2.5649 - val_acc: 0.5202\n",
      "Epoch 25/100\n",
      "50000/50000 [==============================] - 4s 70us/step - loss: 0.2526 - acc: 0.9109 - val_loss: 2.5826 - val_acc: 0.5197\n",
      "Epoch 26/100\n",
      "50000/50000 [==============================] - 3s 67us/step - loss: 0.2620 - acc: 0.9090 - val_loss: 2.5984 - val_acc: 0.5273\n",
      "Epoch 27/100\n",
      "50000/50000 [==============================] - 3s 69us/step - loss: 0.2273 - acc: 0.9208 - val_loss: 2.7689 - val_acc: 0.5247\n",
      "Epoch 28/100\n",
      "50000/50000 [==============================] - 4s 72us/step - loss: 0.2047 - acc: 0.9283 - val_loss: 2.7933 - val_acc: 0.5259\n",
      "Epoch 29/100\n",
      "50000/50000 [==============================] - 4s 78us/step - loss: 0.1932 - acc: 0.9323 - val_loss: 2.8920 - val_acc: 0.5180\n",
      "Epoch 30/100\n",
      "50000/50000 [==============================] - 3s 68us/step - loss: 0.2134 - acc: 0.9268 - val_loss: 2.8645 - val_acc: 0.5256\n",
      "Epoch 31/100\n",
      "50000/50000 [==============================] - 4s 75us/step - loss: 0.2080 - acc: 0.9290 - val_loss: 2.9316 - val_acc: 0.5206\n",
      "Epoch 32/100\n",
      "50000/50000 [==============================] - 4s 74us/step - loss: 0.1857 - acc: 0.9361 - val_loss: 3.0611 - val_acc: 0.5244\n",
      "Epoch 33/100\n",
      "50000/50000 [==============================] - 4s 72us/step - loss: 0.1744 - acc: 0.9389 - val_loss: 2.9848 - val_acc: 0.5269\n",
      "Epoch 34/100\n",
      "50000/50000 [==============================] - 4s 72us/step - loss: 0.1675 - acc: 0.9416 - val_loss: 3.1291 - val_acc: 0.5230\n",
      "Epoch 35/100\n",
      "50000/50000 [==============================] - 4s 81us/step - loss: 0.1692 - acc: 0.9422 - val_loss: 3.0849 - val_acc: 0.5223\n",
      "Epoch 36/100\n",
      "50000/50000 [==============================] - 4s 81us/step - loss: 0.1709 - acc: 0.9408 - val_loss: 3.3059 - val_acc: 0.5213\n",
      "Epoch 37/100\n",
      "50000/50000 [==============================] - 3s 68us/step - loss: 0.1713 - acc: 0.9416 - val_loss: 3.1654 - val_acc: 0.5286\n",
      "Epoch 38/100\n",
      "50000/50000 [==============================] - 4s 74us/step - loss: 0.1457 - acc: 0.9496 - val_loss: 3.2710 - val_acc: 0.5290\n",
      "Epoch 39/100\n",
      "50000/50000 [==============================] - 4s 74us/step - loss: 0.1395 - acc: 0.9530 - val_loss: 3.2645 - val_acc: 0.5269\n",
      "Epoch 40/100\n",
      "50000/50000 [==============================] - 3s 69us/step - loss: 0.1490 - acc: 0.9493 - val_loss: 3.3234 - val_acc: 0.5195\n",
      "Epoch 41/100\n",
      "50000/50000 [==============================] - 3s 64us/step - loss: 0.1429 - acc: 0.9518 - val_loss: 3.3535 - val_acc: 0.5360\n",
      "Epoch 42/100\n",
      "50000/50000 [==============================] - 3s 64us/step - loss: 0.1532 - acc: 0.9471 - val_loss: 3.2885 - val_acc: 0.5244\n",
      "Epoch 43/100\n",
      "50000/50000 [==============================] - 3s 67us/step - loss: 0.1287 - acc: 0.9558 - val_loss: 3.3780 - val_acc: 0.5264\n",
      "Epoch 44/100\n",
      "50000/50000 [==============================] - 3s 65us/step - loss: 0.1178 - acc: 0.9608 - val_loss: 3.3160 - val_acc: 0.5253\n",
      "Epoch 45/100\n",
      "50000/50000 [==============================] - 3s 68us/step - loss: 0.1434 - acc: 0.9512 - val_loss: 3.3460 - val_acc: 0.5224\n",
      "Epoch 46/100\n",
      "50000/50000 [==============================] - 4s 71us/step - loss: 0.1339 - acc: 0.9541 - val_loss: 3.4297 - val_acc: 0.5253\n",
      "Epoch 47/100\n",
      "50000/50000 [==============================] - 3s 66us/step - loss: 0.1284 - acc: 0.9568 - val_loss: 3.4556 - val_acc: 0.5217\n",
      "Epoch 48/100\n",
      "50000/50000 [==============================] - 3s 69us/step - loss: 0.1322 - acc: 0.9563 - val_loss: 3.4685 - val_acc: 0.5299\n",
      "Epoch 49/100\n",
      "50000/50000 [==============================] - 4s 88us/step - loss: 0.1109 - acc: 0.9627 - val_loss: 3.4685 - val_acc: 0.5247\n",
      "Epoch 50/100\n",
      "50000/50000 [==============================] - 4s 79us/step - loss: 0.0999 - acc: 0.9664 - val_loss: 3.6017 - val_acc: 0.5256\n",
      "Epoch 51/100\n",
      "50000/50000 [==============================] - 4s 75us/step - loss: 0.1083 - acc: 0.9632 - val_loss: 3.6567 - val_acc: 0.5204\n",
      "Epoch 52/100\n",
      "50000/50000 [==============================] - 4s 85us/step - loss: 0.1287 - acc: 0.9576 - val_loss: 3.4635 - val_acc: 0.5294\n",
      "Epoch 53/100\n",
      "50000/50000 [==============================] - 4s 87us/step - loss: 0.1213 - acc: 0.9603 - val_loss: 3.6436 - val_acc: 0.5245\n",
      "Epoch 54/100\n",
      "50000/50000 [==============================] - 4s 79us/step - loss: 0.1174 - acc: 0.9608 - val_loss: 3.5298 - val_acc: 0.5261\n",
      "Epoch 55/100\n",
      "50000/50000 [==============================] - 4s 77us/step - loss: 0.1004 - acc: 0.9668 - val_loss: 3.5381 - val_acc: 0.5250\n",
      "Epoch 56/100\n",
      "50000/50000 [==============================] - 4s 79us/step - loss: 0.0892 - acc: 0.9708 - val_loss: 3.6428 - val_acc: 0.5247\n",
      "Epoch 57/100\n",
      "50000/50000 [==============================] - 4s 78us/step - loss: 0.0879 - acc: 0.9696 - val_loss: 3.8111 - val_acc: 0.5258\n"
     ]
    },
    {
     "name": "stdout",
     "output_type": "stream",
     "text": [
      "Epoch 58/100\n",
      "50000/50000 [==============================] - 4s 86us/step - loss: 0.1390 - acc: 0.9550 - val_loss: 3.5950 - val_acc: 0.5312\n",
      "Epoch 59/100\n",
      "50000/50000 [==============================] - 4s 85us/step - loss: 0.1030 - acc: 0.9660 - val_loss: 3.6573 - val_acc: 0.5225\n",
      "Epoch 60/100\n",
      "50000/50000 [==============================] - 4s 75us/step - loss: 0.0948 - acc: 0.9685 - val_loss: 3.6677 - val_acc: 0.5267\n",
      "Epoch 61/100\n",
      "50000/50000 [==============================] - 4s 80us/step - loss: 0.0990 - acc: 0.9670 - val_loss: 3.7761 - val_acc: 0.5256\n",
      "Epoch 62/100\n",
      "50000/50000 [==============================] - 4s 78us/step - loss: 0.1098 - acc: 0.9640 - val_loss: 3.6562 - val_acc: 0.5313\n",
      "Epoch 63/100\n",
      "50000/50000 [==============================] - 4s 80us/step - loss: 0.0968 - acc: 0.9681 - val_loss: 3.6960 - val_acc: 0.5285\n",
      "Epoch 64/100\n",
      "50000/50000 [==============================] - 4s 76us/step - loss: 0.0885 - acc: 0.9715 - val_loss: 3.7408 - val_acc: 0.5291\n",
      "Epoch 65/100\n",
      "50000/50000 [==============================] - 4s 78us/step - loss: 0.0836 - acc: 0.9729 - val_loss: 3.7884 - val_acc: 0.5259\n",
      "Epoch 66/100\n",
      "50000/50000 [==============================] - 4s 83us/step - loss: 0.1048 - acc: 0.9657 - val_loss: 3.7678 - val_acc: 0.5286\n",
      "Epoch 67/100\n",
      "50000/50000 [==============================] - 5s 102us/step - loss: 0.0914 - acc: 0.9695 - val_loss: 3.8485 - val_acc: 0.5252\n",
      "Epoch 68/100\n",
      "50000/50000 [==============================] - 6s 118us/step - loss: 0.0877 - acc: 0.9712 - val_loss: 3.8034 - val_acc: 0.5259\n",
      "Epoch 69/100\n",
      "50000/50000 [==============================] - 7s 132us/step - loss: 0.0976 - acc: 0.9683 - val_loss: 3.7361 - val_acc: 0.5334\n",
      "Epoch 70/100\n",
      "50000/50000 [==============================] - 6s 123us/step - loss: 0.0899 - acc: 0.9712 - val_loss: 3.7115 - val_acc: 0.5246\n",
      "Epoch 71/100\n",
      "50000/50000 [==============================] - 6s 113us/step - loss: 0.0765 - acc: 0.9749 - val_loss: 3.8204 - val_acc: 0.5274\n",
      "Epoch 72/100\n",
      "50000/50000 [==============================] - 5s 102us/step - loss: 0.0777 - acc: 0.9751 - val_loss: 3.9102 - val_acc: 0.5204\n",
      "Epoch 73/100\n",
      "50000/50000 [==============================] - 4s 78us/step - loss: 0.0944 - acc: 0.9703 - val_loss: 3.7457 - val_acc: 0.5199\n",
      "Epoch 74/100\n",
      "50000/50000 [==============================] - 4s 83us/step - loss: 0.0765 - acc: 0.9750 - val_loss: 3.9177 - val_acc: 0.5228\n",
      "Epoch 75/100\n",
      "50000/50000 [==============================] - 4s 87us/step - loss: 0.0913 - acc: 0.9711 - val_loss: 3.8232 - val_acc: 0.5207\n",
      "Epoch 76/100\n",
      "50000/50000 [==============================] - 4s 80us/step - loss: 0.1048 - acc: 0.9665 - val_loss: 3.7919 - val_acc: 0.5274\n",
      "Epoch 77/100\n",
      "50000/50000 [==============================] - 4s 84us/step - loss: 0.0783 - acc: 0.9742 - val_loss: 3.8234 - val_acc: 0.5285\n",
      "Epoch 78/100\n",
      "50000/50000 [==============================] - 4s 78us/step - loss: 0.0670 - acc: 0.9775 - val_loss: 3.9723 - val_acc: 0.5292\n",
      "Epoch 79/100\n",
      "50000/50000 [==============================] - 4s 75us/step - loss: 0.0694 - acc: 0.9774 - val_loss: 3.8374 - val_acc: 0.5283\n",
      "Epoch 80/100\n",
      "50000/50000 [==============================] - 4s 79us/step - loss: 0.0875 - acc: 0.9714 - val_loss: 3.9626 - val_acc: 0.5341\n",
      "Epoch 81/100\n",
      "50000/50000 [==============================] - 4s 81us/step - loss: 0.0985 - acc: 0.9687 - val_loss: 3.7521 - val_acc: 0.5388\n",
      "Epoch 82/100\n",
      "50000/50000 [==============================] - 4s 84us/step - loss: 0.0734 - acc: 0.9761 - val_loss: 3.7844 - val_acc: 0.5363\n",
      "Epoch 83/100\n",
      "50000/50000 [==============================] - 4s 74us/step - loss: 0.0651 - acc: 0.9793 - val_loss: 3.9040 - val_acc: 0.5251\n",
      "Epoch 84/100\n",
      "50000/50000 [==============================] - 4s 74us/step - loss: 0.0834 - acc: 0.9742 - val_loss: 3.7996 - val_acc: 0.5314\n",
      "Epoch 85/100\n",
      "50000/50000 [==============================] - 4s 74us/step - loss: 0.0711 - acc: 0.9762 - val_loss: 3.9581 - val_acc: 0.5320\n",
      "Epoch 86/100\n",
      "50000/50000 [==============================] - 4s 79us/step - loss: 0.0684 - acc: 0.9784 - val_loss: 3.9650 - val_acc: 0.5319\n",
      "Epoch 87/100\n",
      "50000/50000 [==============================] - 4s 75us/step - loss: 0.0745 - acc: 0.9762 - val_loss: 3.8616 - val_acc: 0.5382\n",
      "Epoch 88/100\n",
      "50000/50000 [==============================] - 4s 73us/step - loss: 0.0748 - acc: 0.9750 - val_loss: 3.9600 - val_acc: 0.5328\n",
      "Epoch 89/100\n",
      "50000/50000 [==============================] - 4s 74us/step - loss: 0.0647 - acc: 0.9795 - val_loss: 3.9312 - val_acc: 0.5328\n",
      "Epoch 90/100\n",
      "50000/50000 [==============================] - 4s 73us/step - loss: 0.0676 - acc: 0.9779 - val_loss: 4.0437 - val_acc: 0.5319\n",
      "Epoch 91/100\n",
      "50000/50000 [==============================] - 4s 73us/step - loss: 0.0894 - acc: 0.9716 - val_loss: 3.9149 - val_acc: 0.5264\n",
      "Epoch 92/100\n",
      "50000/50000 [==============================] - 4s 81us/step - loss: 0.0627 - acc: 0.9797 - val_loss: 3.9552 - val_acc: 0.5306\n",
      "Epoch 93/100\n",
      "50000/50000 [==============================] - 4s 84us/step - loss: 0.0624 - acc: 0.9791 - val_loss: 3.9997 - val_acc: 0.5358\n",
      "Epoch 94/100\n",
      "50000/50000 [==============================] - 4s 83us/step - loss: 0.0555 - acc: 0.9820 - val_loss: 4.0599 - val_acc: 0.5346\n",
      "Epoch 95/100\n",
      "50000/50000 [==============================] - 4s 84us/step - loss: 0.0594 - acc: 0.9805 - val_loss: 4.0308 - val_acc: 0.5308\n",
      "Epoch 96/100\n",
      "50000/50000 [==============================] - 5s 94us/step - loss: 0.0752 - acc: 0.9769 - val_loss: 4.0887 - val_acc: 0.5252\n",
      "Epoch 97/100\n",
      "50000/50000 [==============================] - 4s 75us/step - loss: 0.0708 - acc: 0.9772 - val_loss: 4.0031 - val_acc: 0.5318\n",
      "Epoch 98/100\n",
      "50000/50000 [==============================] - 4s 74us/step - loss: 0.0722 - acc: 0.9767 - val_loss: 3.9631 - val_acc: 0.5392\n",
      "Epoch 99/100\n",
      "50000/50000 [==============================] - 4s 77us/step - loss: 0.0700 - acc: 0.9784 - val_loss: 4.0791 - val_acc: 0.5264\n",
      "Epoch 100/100\n",
      "50000/50000 [==============================] - 4s 73us/step - loss: 0.0642 - acc: 0.9795 - val_loss: 3.9828 - val_acc: 0.5301\n"
     ]
    },
    {
     "data": {
      "text/plain": [
       "<keras.callbacks.History at 0x1f433219588>"
      ]
     },
     "execution_count": 9,
     "metadata": {},
     "output_type": "execute_result"
    }
   ],
   "source": [
    "model.fit(x_train, y_train, \n",
    "          epochs=EPOCHS, \n",
    "          batch_size=BATCH_SIZE, \n",
    "          validation_data=(x_test, y_test), \n",
    "          shuffle=True)"
   ]
  },
  {
   "cell_type": "code",
   "execution_count": 11,
   "metadata": {},
   "outputs": [
    {
     "data": {
      "image/png": "[encoded data removed]",
      "text/plain": [
       "<Figure size 432x288 with 1 Axes>"
      ]
     },
     "metadata": {
      "needs_background": "light"
     },
     "output_type": "display_data"
    },
    {
     "data": {
      "image/png": "[encoded data removed]",
      "text/plain": [
       "<Figure size 432x288 with 1 Axes>"
      ]
     },
     "metadata": {
      "needs_background": "light"
     },
     "output_type": "display_data"
    }
   ],
   "source": [
    "import matplotlib.pyplot as plt\n",
    "\n",
    "\n",
    "train_loss = model.history.history[\"loss\"]\n",
    "valid_loss = model.history.history[\"val_loss\"]\n",
    "\n",
    "train_acc = model.history.history[\"acc\"]\n",
    "valid_acc = model.history.history[\"val_acc\"]\n",
    "\n",
    "plt.plot(range(len(train_loss)), train_loss, label=\"train loss\")\n",
    "plt.plot(range(len(valid_loss)), valid_loss, label=\"valid loss\")\n",
    "plt.legend()\n",
    "plt.title(\"Loss\")\n",
    "plt.show()\n",
    "\n",
    "plt.plot(range(len(train_acc)), train_acc, label=\"train accuracy\")\n",
    "plt.plot(range(len(valid_acc)), valid_acc, label=\"valid accuracy\")\n",
    "plt.legend()\n",
    "plt.title(\"Accuracy\")\n",
    "plt.show()"
   ]
  },
  {
   "cell_type": "code",
   "execution_count": null,
   "metadata": {},
   "outputs": [],
   "source": []
  }
 ],
 "metadata": {
  "kernelspec": {
   "display_name": "Python 3",
   "language": "python",
   "name": "python3"
  },
  "language_info": {
   "codemirror_mode": {
    "name": "ipython",
    "version": 3
   },
   "file_extension": ".py",
   "mimetype": "text/x-python",
   "name": "python",
   "nbconvert_exporter": "python",
   "pygments_lexer": "ipython3",
   "version": "3.7.3"
  }
 },
 "nbformat": 4,
 "nbformat_minor": 2
}
