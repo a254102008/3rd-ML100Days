{
 "cells": [
  {
   "cell_type": "markdown",
   "metadata": {},
   "source": [
    "## Work\n",
    "1. 請比較使用不同層數以及不同 Dropout rate 對訓練的效果\n",
    "2. 將 optimizer 改成使用 Adam 並加上適當的 dropout rate 檢視結果"
   ]
  },
  {
   "cell_type": "code",
   "execution_count": 1,
   "metadata": {},
   "outputs": [
    {
     "name": "stderr",
     "output_type": "stream",
     "text": [
      "Using TensorFlow backend.\n"
     ]
    }
   ],
   "source": [
    "import os\n",
    "import keras\n",
    "import itertools\n",
    "# Disable GPU\n",
    "os.environ[\"CUDA_VISIBLE_DEVICES\"] = \"0\""
   ]
  },
  {
   "cell_type": "code",
   "execution_count": 2,
   "metadata": {},
   "outputs": [],
   "source": [
    "train, test = keras.datasets.cifar10.load_data()"
   ]
  },
  {
   "cell_type": "code",
   "execution_count": 3,
   "metadata": {},
   "outputs": [],
   "source": [
    "## 資料前處理\n",
    "def preproc_x(x, flatten=True):\n",
    "    x = x / 255.\n",
    "    if flatten:\n",
    "        x = x.reshape((len(x), -1))\n",
    "    return x\n",
    "\n",
    "def preproc_y(y, num_classes=10):\n",
    "    if y.shape[-1] == 1:\n",
    "        y = keras.utils.to_categorical(y, num_classes)\n",
    "    return y    "
   ]
  },
  {
   "cell_type": "code",
   "execution_count": 4,
   "metadata": {},
   "outputs": [],
   "source": [
    "x_train, y_train = train\n",
    "x_test, y_test = test\n",
    "\n",
    "# Preproc the inputs\n",
    "x_train = preproc_x(x_train)\n",
    "x_test = preproc_x(x_test)\n",
    "\n",
    "# Preprc the outputs\n",
    "y_train = preproc_y(y_train)\n",
    "y_test = preproc_y(y_test)"
   ]
  },
  {
   "cell_type": "code",
   "execution_count": 5,
   "metadata": {},
   "outputs": [],
   "source": [
    "from keras.layers import Dropout\n",
    "\"\"\"\n",
    "建立神經網路，並加入 dropout layer\n",
    "\"\"\"\n",
    "def build_mlp(input_shape, output_units=10, num_neurons=[512, 256, 128], drp_ratio=0.2):\n",
    "    input_layer = keras.layers.Input(input_shape)\n",
    "    \n",
    "    for i, n_units in enumerate(num_neurons):\n",
    "        if i == 0:\n",
    "            x = keras.layers.Dense(units=n_units, \n",
    "                                   activation=\"relu\", \n",
    "                                   name=\"hidden_layer\"+str(i+1))(input_layer)\n",
    "            x = Dropout(drp_ratio)(x)\n",
    "        else:\n",
    "            x = keras.layers.Dense(units=n_units, \n",
    "                                   activation=\"relu\", \n",
    "                                   name=\"hidden_layer\"+str(i+1))(x)\n",
    "            x = Dropout(drp_ratio)(x)\n",
    "    \n",
    "    out = keras.layers.Dense(units=output_units, activation=\"softmax\", name=\"output\")(x)\n",
    "    \n",
    "    model = keras.models.Model(inputs=[input_layer], outputs=[out])\n",
    "    return model"
   ]
  },
  {
   "cell_type": "code",
   "execution_count": 8,
   "metadata": {},
   "outputs": [],
   "source": [
    "\"\"\"Code Here\n",
    "設定超參數\n",
    "\"\"\"\n",
    "LEARNING_RATE = 1e-3\n",
    "EPOCHS = 50\n",
    "BATCH_SIZE = 256\n",
    "Dropout_EXP = 0.1"
   ]
  },
  {
   "cell_type": "code",
   "execution_count": 9,
   "metadata": {
    "scrolled": true
   },
   "outputs": [
    {
     "name": "stdout",
     "output_type": "stream",
     "text": [
      "WARNING:tensorflow:From C:\\Users\\a2541\\Anaconda3\\lib\\site-packages\\tensorflow\\python\\framework\\op_def_library.py:263: colocate_with (from tensorflow.python.framework.ops) is deprecated and will be removed in a future version.\n",
      "Instructions for updating:\n",
      "Colocations handled automatically by placer.\n",
      "WARNING:tensorflow:From C:\\Users\\a2541\\Anaconda3\\lib\\site-packages\\keras\\backend\\tensorflow_backend.py:3445: calling dropout (from tensorflow.python.ops.nn_ops) with keep_prob is deprecated and will be removed in a future version.\n",
      "Instructions for updating:\n",
      "Please use `rate` instead of `keep_prob`. Rate should be set to `rate = 1 - keep_prob`.\n",
      "_________________________________________________________________\n",
      "Layer (type)                 Output Shape              Param #   \n",
      "=================================================================\n",
      "input_1 (InputLayer)         (None, 3072)              0         \n",
      "_________________________________________________________________\n",
      "hidden_layer1 (Dense)        (None, 512)               1573376   \n",
      "_________________________________________________________________\n",
      "dropout_1 (Dropout)          (None, 512)               0         \n",
      "_________________________________________________________________\n",
      "hidden_layer2 (Dense)        (None, 256)               131328    \n",
      "_________________________________________________________________\n",
      "dropout_2 (Dropout)          (None, 256)               0         \n",
      "_________________________________________________________________\n",
      "hidden_layer3 (Dense)        (None, 128)               32896     \n",
      "_________________________________________________________________\n",
      "dropout_3 (Dropout)          (None, 128)               0         \n",
      "_________________________________________________________________\n",
      "output (Dense)               (None, 10)                1290      \n",
      "=================================================================\n",
      "Total params: 1,738,890\n",
      "Trainable params: 1,738,890\n",
      "Non-trainable params: 0\n",
      "_________________________________________________________________\n",
      "WARNING:tensorflow:From C:\\Users\\a2541\\Anaconda3\\lib\\site-packages\\tensorflow\\python\\ops\\math_ops.py:3066: to_int32 (from tensorflow.python.ops.math_ops) is deprecated and will be removed in a future version.\n",
      "Instructions for updating:\n",
      "Use tf.cast instead.\n",
      "Train on 50000 samples, validate on 10000 samples\n",
      "Epoch 1/50\n",
      "50000/50000 [==============================] - 5s 103us/step - loss: 1.9751 - acc: 0.2755 - val_loss: 1.7710 - val_acc: 0.3507\n",
      "Epoch 2/50\n",
      "50000/50000 [==============================] - 3s 59us/step - loss: 1.7679 - acc: 0.3627 - val_loss: 1.6814 - val_acc: 0.4041\n",
      "Epoch 3/50\n",
      "50000/50000 [==============================] - 3s 58us/step - loss: 1.7007 - acc: 0.3902 - val_loss: 1.6024 - val_acc: 0.4309\n",
      "Epoch 4/50\n",
      "50000/50000 [==============================] - 3s 60us/step - loss: 1.6404 - acc: 0.4117 - val_loss: 1.5686 - val_acc: 0.4393\n",
      "Epoch 5/50\n",
      "50000/50000 [==============================] - 3s 60us/step - loss: 1.5983 - acc: 0.4286 - val_loss: 1.5228 - val_acc: 0.4525\n",
      "Epoch 6/50\n",
      "50000/50000 [==============================] - 3s 66us/step - loss: 1.5689 - acc: 0.4388 - val_loss: 1.5056 - val_acc: 0.4623\n",
      "Epoch 7/50\n",
      "50000/50000 [==============================] - 3s 66us/step - loss: 1.5443 - acc: 0.4468 - val_loss: 1.4674 - val_acc: 0.4759\n",
      "Epoch 8/50\n",
      "50000/50000 [==============================] - 3s 62us/step - loss: 1.5169 - acc: 0.4553 - val_loss: 1.4960 - val_acc: 0.4644\n",
      "Epoch 9/50\n",
      "50000/50000 [==============================] - 3s 64us/step - loss: 1.4940 - acc: 0.4662 - val_loss: 1.4641 - val_acc: 0.4744\n",
      "Epoch 10/50\n",
      "50000/50000 [==============================] - 3s 59us/step - loss: 1.4813 - acc: 0.4698 - val_loss: 1.4327 - val_acc: 0.4878\n",
      "Epoch 11/50\n",
      "50000/50000 [==============================] - 3s 58us/step - loss: 1.4598 - acc: 0.4776 - val_loss: 1.4411 - val_acc: 0.4857\n",
      "Epoch 12/50\n",
      "50000/50000 [==============================] - 3s 62us/step - loss: 1.4445 - acc: 0.4846 - val_loss: 1.4474 - val_acc: 0.4852\n",
      "Epoch 13/50\n",
      "50000/50000 [==============================] - 3s 61us/step - loss: 1.4257 - acc: 0.4893 - val_loss: 1.4127 - val_acc: 0.4962\n",
      "Epoch 14/50\n",
      "50000/50000 [==============================] - 3s 61us/step - loss: 1.4200 - acc: 0.4918 - val_loss: 1.4187 - val_acc: 0.4903\n",
      "Epoch 15/50\n",
      "50000/50000 [==============================] - 3s 65us/step - loss: 1.4025 - acc: 0.4974 - val_loss: 1.4031 - val_acc: 0.5005\n",
      "Epoch 16/50\n",
      "50000/50000 [==============================] - 3s 61us/step - loss: 1.3919 - acc: 0.5025 - val_loss: 1.3901 - val_acc: 0.4988\n",
      "Epoch 17/50\n",
      "50000/50000 [==============================] - 3s 61us/step - loss: 1.3804 - acc: 0.5062 - val_loss: 1.4245 - val_acc: 0.4903\n",
      "Epoch 18/50\n",
      "50000/50000 [==============================] - 3s 60us/step - loss: 1.3725 - acc: 0.5095 - val_loss: 1.4060 - val_acc: 0.4944\n",
      "Epoch 19/50\n",
      "50000/50000 [==============================] - 3s 63us/step - loss: 1.3618 - acc: 0.5130 - val_loss: 1.3743 - val_acc: 0.5103\n",
      "Epoch 20/50\n",
      "50000/50000 [==============================] - 3s 62us/step - loss: 1.3522 - acc: 0.5128 - val_loss: 1.3903 - val_acc: 0.5012\n",
      "Epoch 21/50\n",
      "50000/50000 [==============================] - 3s 60us/step - loss: 1.3417 - acc: 0.5195 - val_loss: 1.3687 - val_acc: 0.5121\n",
      "Epoch 22/50\n",
      "50000/50000 [==============================] - 3s 60us/step - loss: 1.3285 - acc: 0.5218 - val_loss: 1.3796 - val_acc: 0.5106\n",
      "Epoch 23/50\n",
      "50000/50000 [==============================] - 3s 61us/step - loss: 1.3183 - acc: 0.5273 - val_loss: 1.3653 - val_acc: 0.5134\n",
      "Epoch 24/50\n",
      "50000/50000 [==============================] - 3s 61us/step - loss: 1.3216 - acc: 0.5254 - val_loss: 1.3922 - val_acc: 0.5047\n",
      "Epoch 25/50\n",
      "50000/50000 [==============================] - 3s 61us/step - loss: 1.3032 - acc: 0.5330 - val_loss: 1.3743 - val_acc: 0.5171\n",
      "Epoch 26/50\n",
      "50000/50000 [==============================] - 3s 63us/step - loss: 1.2989 - acc: 0.5352 - val_loss: 1.3630 - val_acc: 0.5148\n",
      "Epoch 27/50\n",
      "50000/50000 [==============================] - 3s 64us/step - loss: 1.2843 - acc: 0.5368 - val_loss: 1.3548 - val_acc: 0.5185\n",
      "Epoch 28/50\n",
      "50000/50000 [==============================] - 3s 62us/step - loss: 1.2827 - acc: 0.5400 - val_loss: 1.3606 - val_acc: 0.5169\n",
      "Epoch 29/50\n",
      "50000/50000 [==============================] - 3s 63us/step - loss: 1.2738 - acc: 0.5417 - val_loss: 1.3839 - val_acc: 0.5096\n",
      "Epoch 30/50\n",
      "50000/50000 [==============================] - 3s 63us/step - loss: 1.2680 - acc: 0.5453 - val_loss: 1.3472 - val_acc: 0.5255\n",
      "Epoch 31/50\n",
      "50000/50000 [==============================] - 3s 62us/step - loss: 1.2621 - acc: 0.5458 - val_loss: 1.3592 - val_acc: 0.5166\n",
      "Epoch 32/50\n",
      "50000/50000 [==============================] - 3s 62us/step - loss: 1.2522 - acc: 0.5502 - val_loss: 1.3423 - val_acc: 0.5157\n",
      "Epoch 33/50\n",
      "50000/50000 [==============================] - 3s 61us/step - loss: 1.2430 - acc: 0.5527 - val_loss: 1.3653 - val_acc: 0.5120\n",
      "Epoch 34/50\n",
      "50000/50000 [==============================] - 3s 66us/step - loss: 1.2306 - acc: 0.5567 - val_loss: 1.3528 - val_acc: 0.5189\n",
      "Epoch 35/50\n",
      "50000/50000 [==============================] - 3s 62us/step - loss: 1.2231 - acc: 0.5602 - val_loss: 1.3600 - val_acc: 0.5153\n",
      "Epoch 36/50\n",
      "50000/50000 [==============================] - 3s 63us/step - loss: 1.2248 - acc: 0.5585 - val_loss: 1.3655 - val_acc: 0.5107\n",
      "Epoch 37/50\n",
      "50000/50000 [==============================] - 3s 64us/step - loss: 1.2178 - acc: 0.5622 - val_loss: 1.3446 - val_acc: 0.5242\n",
      "Epoch 38/50\n",
      "50000/50000 [==============================] - 3s 64us/step - loss: 1.2084 - acc: 0.5641 - val_loss: 1.3470 - val_acc: 0.5193\n",
      "Epoch 39/50\n",
      "50000/50000 [==============================] - 3s 64us/step - loss: 1.2033 - acc: 0.5645 - val_loss: 1.3484 - val_acc: 0.5271\n",
      "Epoch 40/50\n",
      "50000/50000 [==============================] - 3s 62us/step - loss: 1.2020 - acc: 0.5682 - val_loss: 1.3386 - val_acc: 0.5282\n",
      "Epoch 41/50\n",
      "50000/50000 [==============================] - 3s 62us/step - loss: 1.1916 - acc: 0.5700 - val_loss: 1.3407 - val_acc: 0.5204\n",
      "Epoch 42/50\n",
      "50000/50000 [==============================] - 3s 62us/step - loss: 1.1835 - acc: 0.5727 - val_loss: 1.3466 - val_acc: 0.5262\n",
      "Epoch 43/50\n"
     ]
    },
    {
     "name": "stdout",
     "output_type": "stream",
     "text": [
      "50000/50000 [==============================] - 3s 62us/step - loss: 1.1817 - acc: 0.5718 - val_loss: 1.3602 - val_acc: 0.5251\n",
      "Epoch 44/50\n",
      "50000/50000 [==============================] - 3s 65us/step - loss: 1.1727 - acc: 0.5773 - val_loss: 1.3663 - val_acc: 0.5224\n",
      "Epoch 45/50\n",
      "50000/50000 [==============================] - 3s 65us/step - loss: 1.1726 - acc: 0.5791 - val_loss: 1.3432 - val_acc: 0.5257\n",
      "Epoch 46/50\n",
      "50000/50000 [==============================] - 3s 63us/step - loss: 1.1691 - acc: 0.5766 - val_loss: 1.3455 - val_acc: 0.5244\n",
      "Epoch 47/50\n",
      "50000/50000 [==============================] - 3s 61us/step - loss: 1.1707 - acc: 0.5762 - val_loss: 1.3430 - val_acc: 0.5245\n",
      "Epoch 48/50\n",
      "50000/50000 [==============================] - 3s 62us/step - loss: 1.1544 - acc: 0.5830 - val_loss: 1.3478 - val_acc: 0.5247\n",
      "Epoch 49/50\n",
      "50000/50000 [==============================] - 3s 61us/step - loss: 1.1511 - acc: 0.5826 - val_loss: 1.3338 - val_acc: 0.5280\n",
      "Epoch 50/50\n",
      "50000/50000 [==============================] - 3s 63us/step - loss: 1.1526 - acc: 0.5852 - val_loss: 1.3510 - val_acc: 0.5247\n"
     ]
    }
   ],
   "source": [
    "results = {}\n",
    "model = build_mlp(input_shape=x_train.shape[1:], drp_ratio=Dropout_EXP)\n",
    "model.summary()\n",
    "optimizer = keras.optimizers.Adam(lr=LEARNING_RATE, beta_1=0.9, beta_2=0.999, epsilon=None, decay=0.0, amsgrad=False)\n",
    "model.compile(loss=\"categorical_crossentropy\", metrics=[\"accuracy\"], optimizer=optimizer)\n",
    "\n",
    "model.fit(x_train, y_train, \n",
    "          epochs=EPOCHS, \n",
    "          batch_size=BATCH_SIZE, \n",
    "          validation_data=(x_test, y_test), \n",
    "          shuffle=True)\n",
    "\n",
    "# Collect results\n",
    "train_loss = model.history.history[\"loss\"]\n",
    "valid_loss = model.history.history[\"val_loss\"]\n",
    "train_acc = model.history.history[\"acc\"]\n",
    "valid_acc = model.history.history[\"val_acc\"]"
   ]
  },
  {
   "cell_type": "code",
   "execution_count": 10,
   "metadata": {},
   "outputs": [
    {
     "data": {
      "image/png": "[encoded data removed]",
      "text/plain": [
       "<Figure size 432x288 with 1 Axes>"
      ]
     },
     "metadata": {
      "needs_background": "light"
     },
     "output_type": "display_data"
    },
    {
     "data": {
      "image/png": "[encoded data removed]",
      "text/plain": [
       "<Figure size 432x288 with 1 Axes>"
      ]
     },
     "metadata": {
      "needs_background": "light"
     },
     "output_type": "display_data"
    }
   ],
   "source": [
    "import matplotlib.pyplot as plt\n",
    "%matplotlib inline\n",
    "\n",
    "plt.plot(range(len(train_loss)), train_loss, label=\"train loss\")\n",
    "plt.plot(range(len(valid_loss)), valid_loss, label=\"valid loss\")\n",
    "plt.legend()\n",
    "plt.title(\"Loss\")\n",
    "plt.show()\n",
    "\n",
    "plt.plot(range(len(train_acc)), train_acc, label=\"train accuracy\")\n",
    "plt.plot(range(len(valid_acc)), valid_acc, label=\"valid accuracy\")\n",
    "plt.legend()\n",
    "plt.title(\"Accuracy\")\n",
    "plt.show()"
   ]
  },
  {
   "cell_type": "code",
   "execution_count": null,
   "metadata": {},
   "outputs": [],
   "source": []
  }
 ],
 "metadata": {
  "kernelspec": {
   "display_name": "Python 3",
   "language": "python",
   "name": "python3"
  },
  "language_info": {
   "codemirror_mode": {
    "name": "ipython",
    "version": 3
   },
   "file_extension": ".py",
   "mimetype": "text/x-python",
   "name": "python",
   "nbconvert_exporter": "python",
   "pygments_lexer": "ipython3",
   "version": "3.7.3"
  }
 },
 "nbformat": 4,
 "nbformat_minor": 2
}
