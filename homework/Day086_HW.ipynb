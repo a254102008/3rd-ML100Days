{
 "cells": [
  {
   "cell_type": "markdown",
   "metadata": {},
   "source": [
    "## Work\n",
    "1. 試比較 save_best_only 與否的差異\n",
    "2. 請僅存入將 save_weights_only 設定為 True, 並嘗試 reset ipynb 並將模型與權重重新建回並預測 x_test"
   ]
  },
  {
   "cell_type": "code",
   "execution_count": 1,
   "metadata": {},
   "outputs": [
    {
     "name": "stderr",
     "output_type": "stream",
     "text": [
      "Using TensorFlow backend.\n"
     ]
    }
   ],
   "source": [
    "import os\n",
    "import keras\n",
    "\n",
    "# Disable GPU\n",
    "os.environ[\"CUDA_VISIBLE_DEVICES\"] = \"0\""
   ]
  },
  {
   "cell_type": "code",
   "execution_count": 2,
   "metadata": {},
   "outputs": [],
   "source": [
    "train, test = keras.datasets.cifar10.load_data()"
   ]
  },
  {
   "cell_type": "code",
   "execution_count": 3,
   "metadata": {},
   "outputs": [],
   "source": [
    "## 資料前處理\n",
    "def preproc_x(x, flatten=True):\n",
    "    x = x / 255.\n",
    "    if flatten:\n",
    "        x = x.reshape((len(x), -1))\n",
    "    return x\n",
    "\n",
    "def preproc_y(y, num_classes=10):\n",
    "    if y.shape[-1] == 1:\n",
    "        y = keras.utils.to_categorical(y, num_classes)\n",
    "    return y    "
   ]
  },
  {
   "cell_type": "code",
   "execution_count": 4,
   "metadata": {},
   "outputs": [],
   "source": [
    "x_train, y_train = train\n",
    "x_test, y_test = test\n",
    "\n",
    "# Preproc the inputs\n",
    "x_train = preproc_x(x_train)\n",
    "x_test = preproc_x(x_test)\n",
    "\n",
    "# Preprc the outputs\n",
    "y_train = preproc_y(y_train)\n",
    "y_test = preproc_y(y_test)"
   ]
  },
  {
   "cell_type": "code",
   "execution_count": 5,
   "metadata": {},
   "outputs": [],
   "source": [
    "from keras.layers import BatchNormalization\n",
    "def build_mlp(input_shape, output_units=10, num_neurons=[512, 256, 128]):\n",
    "    \n",
    "    input_layer = keras.layers.Input(input_shape)\n",
    "    \n",
    "    for i, n_units in enumerate(num_neurons):\n",
    "        if i == 0:\n",
    "            x = keras.layers.Dense(units=n_units, \n",
    "                                   activation=\"relu\", \n",
    "                                   name=\"hidden_layer\"+str(i+1))(input_layer)\n",
    "            x = BatchNormalization()(x)\n",
    "        else:\n",
    "            x = keras.layers.Dense(units=n_units, \n",
    "                                   activation=\"relu\", \n",
    "                                   name=\"hidden_layer\"+str(i+1))(x)\n",
    "            x = BatchNormalization()(x)\n",
    "    \n",
    "    out = keras.layers.Dense(units=output_units, activation=\"softmax\", name=\"output\")(x)\n",
    "    \n",
    "    model = keras.models.Model(inputs=[input_layer], outputs=[out])\n",
    "    \n",
    "    return model"
   ]
  },
  {
   "cell_type": "code",
   "execution_count": 6,
   "metadata": {},
   "outputs": [],
   "source": [
    "LEARNING_RATE = 1e-3\n",
    "EPOCHS = 50\n",
    "BATCH_SIZE = 1024\n",
    "MOMENTUM = 0.95"
   ]
  },
  {
   "cell_type": "code",
   "execution_count": 7,
   "metadata": {},
   "outputs": [
    {
     "name": "stdout",
     "output_type": "stream",
     "text": [
      "WARNING:tensorflow:From C:\\Users\\a2541\\Anaconda3\\lib\\site-packages\\tensorflow\\python\\framework\\op_def_library.py:263: colocate_with (from tensorflow.python.framework.ops) is deprecated and will be removed in a future version.\n",
      "Instructions for updating:\n",
      "Colocations handled automatically by placer.\n",
      "_________________________________________________________________\n",
      "Layer (type)                 Output Shape              Param #   \n",
      "=================================================================\n",
      "input_1 (InputLayer)         (None, 3072)              0         \n",
      "_________________________________________________________________\n",
      "hidden_layer1 (Dense)        (None, 512)               1573376   \n",
      "_________________________________________________________________\n",
      "batch_normalization_1 (Batch (None, 512)               2048      \n",
      "_________________________________________________________________\n",
      "hidden_layer2 (Dense)        (None, 256)               131328    \n",
      "_________________________________________________________________\n",
      "batch_normalization_2 (Batch (None, 256)               1024      \n",
      "_________________________________________________________________\n",
      "hidden_layer3 (Dense)        (None, 128)               32896     \n",
      "_________________________________________________________________\n",
      "batch_normalization_3 (Batch (None, 128)               512       \n",
      "_________________________________________________________________\n",
      "output (Dense)               (None, 10)                1290      \n",
      "=================================================================\n",
      "Total params: 1,742,474\n",
      "Trainable params: 1,740,682\n",
      "Non-trainable params: 1,792\n",
      "_________________________________________________________________\n",
      "WARNING:tensorflow:From C:\\Users\\a2541\\Anaconda3\\lib\\site-packages\\tensorflow\\python\\ops\\math_ops.py:3066: to_int32 (from tensorflow.python.ops.math_ops) is deprecated and will be removed in a future version.\n",
      "Instructions for updating:\n",
      "Use tf.cast instead.\n",
      "Train on 50000 samples, validate on 10000 samples\n",
      "Epoch 1/50\n",
      "50000/50000 [==============================] - 5s 102us/step - loss: 2.2108 - acc: 0.2712 - val_loss: 2.0829 - val_acc: 0.3181\n",
      "Epoch 2/50\n",
      "50000/50000 [==============================] - 3s 64us/step - loss: 1.7543 - acc: 0.3897 - val_loss: 1.7824 - val_acc: 0.3881\n",
      "Epoch 3/50\n",
      "50000/50000 [==============================] - 3s 64us/step - loss: 1.6262 - acc: 0.4339 - val_loss: 1.6824 - val_acc: 0.4197\n",
      "Epoch 4/50\n",
      "50000/50000 [==============================] - 3s 63us/step - loss: 1.5500 - acc: 0.4576 - val_loss: 1.6219 - val_acc: 0.4296\n",
      "Epoch 5/50\n",
      "50000/50000 [==============================] - 3s 64us/step - loss: 1.4949 - acc: 0.4772 - val_loss: 1.5952 - val_acc: 0.4347\n",
      "Epoch 6/50\n",
      "50000/50000 [==============================] - 3s 63us/step - loss: 1.4476 - acc: 0.4953 - val_loss: 1.5623 - val_acc: 0.4530\n",
      "Epoch 7/50\n",
      "50000/50000 [==============================] - 3s 64us/step - loss: 1.4079 - acc: 0.5077 - val_loss: 1.5434 - val_acc: 0.4554\n",
      "Epoch 8/50\n",
      "50000/50000 [==============================] - 3s 64us/step - loss: 1.3721 - acc: 0.5199 - val_loss: 1.5149 - val_acc: 0.4671\n",
      "Epoch 9/50\n",
      "50000/50000 [==============================] - 3s 65us/step - loss: 1.3392 - acc: 0.5338 - val_loss: 1.5094 - val_acc: 0.4693\n",
      "Epoch 10/50\n",
      "50000/50000 [==============================] - 3s 66us/step - loss: 1.3077 - acc: 0.5448 - val_loss: 1.5011 - val_acc: 0.4695\n",
      "Epoch 11/50\n",
      "50000/50000 [==============================] - 3s 65us/step - loss: 1.2793 - acc: 0.5540 - val_loss: 1.4869 - val_acc: 0.4800\n",
      "Epoch 12/50\n",
      "50000/50000 [==============================] - 3s 65us/step - loss: 1.2523 - acc: 0.5655 - val_loss: 1.4783 - val_acc: 0.4792\n",
      "Epoch 13/50\n",
      "50000/50000 [==============================] - 3s 65us/step - loss: 1.2259 - acc: 0.5756 - val_loss: 1.4722 - val_acc: 0.4813\n",
      "Epoch 14/50\n",
      "50000/50000 [==============================] - 3s 69us/step - loss: 1.2013 - acc: 0.5857 - val_loss: 1.4670 - val_acc: 0.4822\n",
      "Epoch 15/50\n",
      "50000/50000 [==============================] - 3s 64us/step - loss: 1.1786 - acc: 0.5920 - val_loss: 1.4649 - val_acc: 0.4873\n",
      "Epoch 16/50\n",
      "50000/50000 [==============================] - 3s 66us/step - loss: 1.1521 - acc: 0.6033 - val_loss: 1.4585 - val_acc: 0.4870\n",
      "Epoch 17/50\n",
      "50000/50000 [==============================] - 3s 67us/step - loss: 1.1297 - acc: 0.6113 - val_loss: 1.4540 - val_acc: 0.4858\n",
      "Epoch 18/50\n",
      "50000/50000 [==============================] - 3s 66us/step - loss: 1.1068 - acc: 0.6197 - val_loss: 1.4538 - val_acc: 0.4908\n",
      "Epoch 19/50\n",
      "50000/50000 [==============================] - 3s 67us/step - loss: 1.0844 - acc: 0.6286 - val_loss: 1.4509 - val_acc: 0.4919\n",
      "Epoch 20/50\n",
      "50000/50000 [==============================] - 3s 67us/step - loss: 1.0652 - acc: 0.6348 - val_loss: 1.4580 - val_acc: 0.4928\n",
      "Epoch 21/50\n",
      "50000/50000 [==============================] - 4s 70us/step - loss: 1.0436 - acc: 0.6453 - val_loss: 1.4474 - val_acc: 0.4948\n",
      "Epoch 22/50\n",
      "50000/50000 [==============================] - 3s 67us/step - loss: 1.0202 - acc: 0.6557 - val_loss: 1.4527 - val_acc: 0.4947\n",
      "Epoch 23/50\n",
      "50000/50000 [==============================] - 3s 66us/step - loss: 1.0001 - acc: 0.6618 - val_loss: 1.4469 - val_acc: 0.4989\n",
      "Epoch 24/50\n",
      "50000/50000 [==============================] - 3s 67us/step - loss: 0.9799 - acc: 0.6700 - val_loss: 1.4537 - val_acc: 0.4911\n",
      "Epoch 25/50\n",
      "50000/50000 [==============================] - 3s 68us/step - loss: 0.9596 - acc: 0.6776 - val_loss: 1.4636 - val_acc: 0.4907\n",
      "Epoch 26/50\n",
      "50000/50000 [==============================] - 3s 67us/step - loss: 0.9386 - acc: 0.6867 - val_loss: 1.4659 - val_acc: 0.4918\n",
      "Epoch 27/50\n",
      "50000/50000 [==============================] - 3s 67us/step - loss: 0.9195 - acc: 0.6946 - val_loss: 1.4613 - val_acc: 0.4963\n",
      "Epoch 28/50\n",
      "50000/50000 [==============================] - 4s 70us/step - loss: 0.8984 - acc: 0.7021 - val_loss: 1.4700 - val_acc: 0.4942\n",
      "Epoch 29/50\n",
      "50000/50000 [==============================] - 3s 67us/step - loss: 0.8790 - acc: 0.7107 - val_loss: 1.4826 - val_acc: 0.4974\n",
      "Epoch 30/50\n",
      "50000/50000 [==============================] - 3s 67us/step - loss: 0.8585 - acc: 0.7175 - val_loss: 1.4756 - val_acc: 0.4931\n",
      "Epoch 31/50\n",
      "50000/50000 [==============================] - 3s 67us/step - loss: 0.8382 - acc: 0.7262 - val_loss: 1.4757 - val_acc: 0.4947\n",
      "Epoch 32/50\n",
      "50000/50000 [==============================] - 3s 67us/step - loss: 0.8190 - acc: 0.7338 - val_loss: 1.4922 - val_acc: 0.4934\n",
      "Epoch 33/50\n",
      "50000/50000 [==============================] - 3s 67us/step - loss: 0.8016 - acc: 0.7402 - val_loss: 1.5105 - val_acc: 0.4893\n",
      "Epoch 34/50\n",
      "50000/50000 [==============================] - 3s 69us/step - loss: 0.7798 - acc: 0.7488 - val_loss: 1.4968 - val_acc: 0.4961\n",
      "Epoch 35/50\n",
      "50000/50000 [==============================] - 3s 67us/step - loss: 0.7607 - acc: 0.7573 - val_loss: 1.4987 - val_acc: 0.4909\n",
      "Epoch 36/50\n",
      "50000/50000 [==============================] - 3s 68us/step - loss: 0.7416 - acc: 0.7643 - val_loss: 1.5114 - val_acc: 0.4935\n",
      "Epoch 37/50\n",
      "50000/50000 [==============================] - 3s 68us/step - loss: 0.7235 - acc: 0.7712 - val_loss: 1.5200 - val_acc: 0.4949\n",
      "Epoch 38/50\n",
      "50000/50000 [==============================] - 3s 68us/step - loss: 0.7056 - acc: 0.7780 - val_loss: 1.5333 - val_acc: 0.4971\n",
      "Epoch 39/50\n",
      "50000/50000 [==============================] - 3s 69us/step - loss: 0.6867 - acc: 0.7860 - val_loss: 1.5426 - val_acc: 0.4891\n",
      "Epoch 40/50\n",
      "50000/50000 [==============================] - 3s 68us/step - loss: 0.6686 - acc: 0.7931 - val_loss: 1.5514 - val_acc: 0.4890\n",
      "Epoch 41/50\n",
      "50000/50000 [==============================] - 3s 67us/step - loss: 0.6499 - acc: 0.7995 - val_loss: 1.5574 - val_acc: 0.4981\n",
      "Epoch 42/50\n",
      "50000/50000 [==============================] - 3s 69us/step - loss: 0.6320 - acc: 0.8068 - val_loss: 1.5832 - val_acc: 0.4929\n",
      "Epoch 43/50\n",
      "50000/50000 [==============================] - 3s 69us/step - loss: 0.6158 - acc: 0.8148 - val_loss: 1.5854 - val_acc: 0.48962 - acc: - ETA: 0s - loss: 0.6138 - acc\n",
      "Epoch 44/50\n",
      "50000/50000 [==============================] - 3s 69us/step - loss: 0.5985 - acc: 0.8195 - val_loss: 1.6260 - val_acc: 0.4927\n",
      "Epoch 45/50\n"
     ]
    },
    {
     "name": "stdout",
     "output_type": "stream",
     "text": [
      "50000/50000 [==============================] - 3s 68us/step - loss: 0.5812 - acc: 0.8266 - val_loss: 1.6041 - val_acc: 0.4900\n",
      "Epoch 46/50\n",
      "50000/50000 [==============================] - 3s 67us/step - loss: 0.5622 - acc: 0.8340 - val_loss: 1.6144 - val_acc: 0.4935\n",
      "Epoch 47/50\n",
      "50000/50000 [==============================] - 3s 68us/step - loss: 0.5459 - acc: 0.8419 - val_loss: 1.6359 - val_acc: 0.4905\n",
      "Epoch 48/50\n",
      "50000/50000 [==============================] - 3s 68us/step - loss: 0.5292 - acc: 0.8477 - val_loss: 1.6439 - val_acc: 0.4941\n",
      "Epoch 49/50\n",
      "50000/50000 [==============================] - 4s 72us/step - loss: 0.5127 - acc: 0.8534 - val_loss: 1.6600 - val_acc: 0.4868\n",
      "Epoch 50/50\n",
      "50000/50000 [==============================] - 3s 59us/step - loss: 0.4960 - acc: 0.8603 - val_loss: 1.6575 - val_acc: 0.4915\n"
     ]
    }
   ],
   "source": [
    "# 載入 Callbacks\n",
    "\"\"\"Code Here\n",
    "設定 callbacks: model checkpoint\n",
    "\"\"\"\n",
    "from keras.callbacks import ModelCheckpoint\n",
    "\n",
    "model_ckpt = ModelCheckpoint(filepath=\"./tmp_D86.h5\", \n",
    "                             monitor=\"val_loss\", \n",
    "                             save_best_only=True)\n",
    "results = {}\n",
    "\"\"\"Code Here\n",
    "撰寫你的訓練流程並將結果用 dictionary 紀錄\n",
    "\"\"\"\n",
    "model = build_mlp(input_shape=x_train.shape[1:])\n",
    "model.summary()\n",
    "optimizer = keras.optimizers.SGD(lr=LEARNING_RATE, nesterov=True, momentum=MOMENTUM)\n",
    "model.compile(loss=\"categorical_crossentropy\", metrics=[\"accuracy\"], optimizer=optimizer)\n",
    "\n",
    "model.fit(x_train, y_train, \n",
    "          epochs=EPOCHS, \n",
    "          batch_size=BATCH_SIZE, \n",
    "          validation_data=(x_test, y_test), \n",
    "          shuffle=True,\n",
    "          callbacks=[model_ckpt]\n",
    "         )\n",
    "model.save(\"final_model_D86.h5\")\n",
    "model.save_weights(\"model_weights_D86.h5\")\n",
    "# Collect results\n",
    "train_loss = model.history.history[\"loss\"]\n",
    "valid_loss = model.history.history[\"val_loss\"]\n",
    "train_acc = model.history.history[\"acc\"]\n",
    "valid_acc = model.history.history[\"val_acc\"]\n",
    "\n",
    "pred_final = model.predict(x_test)\n",
    "# Load back\n",
    "model = keras.models.load_model(\"./tmp_D86.h5\")\n",
    "pred_loadback = model.predict(x_test)\n"
   ]
  },
  {
   "cell_type": "code",
   "execution_count": 9,
   "metadata": {
    "scrolled": true
   },
   "outputs": [
    {
     "name": "stdout",
     "output_type": "stream",
     "text": [
      "Accuracy of final weights: 0.491\n",
      "Accuracy of best weights: 0.499\n",
      "Accuracy of best weights: 0.080\n",
      "Accuracy of best weights: 0.491\n",
      "10000/10000 [==============================] - 1s 92us/step\n"
     ]
    },
    {
     "data": {
      "image/png": "[encoded data removed]",
      "text/plain": [
       "<Figure size 432x288 with 1 Axes>"
      ]
     },
     "metadata": {
      "needs_background": "light"
     },
     "output_type": "display_data"
    },
    {
     "data": {
      "image/png": "[encoded data removed]",
      "text/plain": [
       "<Figure size 432x288 with 1 Axes>"
      ]
     },
     "metadata": {
      "needs_background": "light"
     },
     "output_type": "display_data"
    }
   ],
   "source": [
    "from sklearn.metrics import accuracy_score\n",
    "\n",
    "final_model_acc = accuracy_score(y_true=y_test.argmax(axis=-1), y_pred=pred_final.argmax(axis=-1))\n",
    "loadback_acc = accuracy_score(y_true=y_test.argmax(axis=-1), y_pred=pred_loadback.argmax(axis=-1))\n",
    "\n",
    "print(\"Accuracy of final weights: %.3f\" % final_model_acc)\n",
    "print(\"Accuracy of best weights: %.3f\" % loadback_acc)\n",
    "\n",
    "\n",
    "new_model = build_mlp(input_shape=x_train.shape[1:])\n",
    "new_model_pred = new_model.predict(x_test)\n",
    "new_model_acc = accuracy_score(y_true=y_test.argmax(axis=-1), y_pred=new_model_pred.argmax(axis=-1))\n",
    "print(\"Accuracy of best weights: %.3f\" % new_model_acc)\n",
    "\n",
    "new_model.load_weights(\"./model_weights_D86.h5\")\n",
    "new_model_pred = new_model.predict(x_test)\n",
    "new_model_loadback_acc = accuracy_score(y_true=y_test.argmax(axis=-1), y_pred=new_model_pred.argmax(axis=-1))\n",
    "print(\"Accuracy of best weights: %.3f\" % new_model_loadback_acc)\n",
    "\n",
    "# Load back\n",
    "model = keras.models.load_model(\"./tmp_D86.h5\")\n",
    "loss_loadback, acc_loadback = model.evaluate(x_test, y_test)\n",
    "\n",
    "import matplotlib.pyplot as plt\n",
    "%matplotlib inline\n",
    "\"\"\"Code Here\n",
    "將結果繪出\n",
    "\"\"\"\n",
    "\n",
    "plt.plot(range(len(train_loss)), train_loss, label=\"train loss\")\n",
    "plt.plot(range(len(valid_loss)), valid_loss, label=\"valid loss\")\n",
    "plt.hlines(y=loss_loadback, xmin=0, xmax=len(train_loss), colors='r', linestyles='--')\n",
    "plt.legend()\n",
    "plt.title(\"Loss\")\n",
    "plt.show()\n",
    "\n",
    "plt.plot(range(len(train_acc)), train_acc, label=\"train accuracy\")\n",
    "plt.plot(range(len(valid_acc)), valid_acc, label=\"valid accuracy\")\n",
    "plt.hlines(y=acc_loadback, xmin=0, xmax=len(train_loss), colors='r', linestyles='--')\n",
    "plt.legend()\n",
    "plt.title(\"Accuracy\")\n",
    "plt.show()"
   ]
  },
  {
   "cell_type": "code",
   "execution_count": null,
   "metadata": {},
   "outputs": [],
   "source": []
  }
 ],
 "metadata": {
  "kernelspec": {
   "display_name": "Python 3",
   "language": "python",
   "name": "python3"
  },
  "language_info": {
   "codemirror_mode": {
    "name": "ipython",
    "version": 3
   },
   "file_extension": ".py",
   "mimetype": "text/x-python",
   "name": "python",
   "nbconvert_exporter": "python",
   "pygments_lexer": "ipython3",
   "version": "3.7.3"
  }
 },
 "nbformat": 4,
 "nbformat_minor": 2
}
