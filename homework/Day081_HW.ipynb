{
 "cells": [
  {
   "cell_type": "markdown",
   "metadata": {},
   "source": [
    "## Work\n",
    "1. 請比較使用 l1, l1_l2 及不同比例下的訓練結果"
   ]
  },
  {
   "cell_type": "code",
   "execution_count": 1,
   "metadata": {},
   "outputs": [
    {
     "name": "stderr",
     "output_type": "stream",
     "text": [
      "Using TensorFlow backend.\n"
     ]
    }
   ],
   "source": [
    "import os\n",
    "import keras\n",
    "\n",
    "# Disable GPU\n",
    "os.environ[\"CUDA_VISIBLE_DEVICES\"] = \"0\""
   ]
  },
  {
   "cell_type": "code",
   "execution_count": 2,
   "metadata": {},
   "outputs": [],
   "source": [
    "train, test = keras.datasets.cifar10.load_data()"
   ]
  },
  {
   "cell_type": "code",
   "execution_count": 3,
   "metadata": {},
   "outputs": [],
   "source": [
    "## 資料前處理\n",
    "def preproc_x(x, flatten=True):\n",
    "    x = x / 255.\n",
    "    if flatten:\n",
    "        x = x.reshape((len(x), -1))\n",
    "    return x\n",
    "\n",
    "def preproc_y(y, num_classes=10):\n",
    "    if y.shape[-1] == 1:\n",
    "        y = keras.utils.to_categorical(y, num_classes)\n",
    "    return y    "
   ]
  },
  {
   "cell_type": "code",
   "execution_count": 4,
   "metadata": {},
   "outputs": [],
   "source": [
    "x_train, y_train = train\n",
    "x_test, y_test = test\n",
    "\n",
    "# Preproc the inputs\n",
    "x_train = preproc_x(x_train)\n",
    "x_test = preproc_x(x_test)\n",
    "\n",
    "# Preprc the outputs\n",
    "y_train = preproc_y(y_train)\n",
    "y_test = preproc_y(y_test)"
   ]
  },
  {
   "cell_type": "code",
   "execution_count": 5,
   "metadata": {},
   "outputs": [],
   "source": [
    "from keras.regularizers import l1, l2, l1_l2\n",
    "\"\"\"\n",
    "建立神經網路，並加入 L1 或 L2\n",
    "\"\"\"\n",
    "def build_mlp(input_shape, output_units=10, num_neurons=[512, 256, 128], l1_ratio=1e-4):\n",
    "    input_layer = keras.layers.Input(input_shape)\n",
    "    \n",
    "    for i, n_units in enumerate(num_neurons):\n",
    "        if i == 0:\n",
    "            x = keras.layers.Dense(units=n_units, \n",
    "                                   activation=\"relu\", \n",
    "                                   name=\"hidden_layer\"+str(i+1), \n",
    "                                   kernel_regularizer=l1(l1_ratio))(input_layer)\n",
    "        else:\n",
    "            x = keras.layers.Dense(units=n_units, \n",
    "                                   activation=\"relu\", \n",
    "                                   name=\"hidden_layer\"+str(i+1),\n",
    "                                   kernel_regularizer=l1(l1_ratio))(x)\n",
    "    \n",
    "    out = keras.layers.Dense(units=output_units, activation=\"softmax\", name=\"output\")(x)\n",
    "    \n",
    "    model = keras.models.Model(inputs=[input_layer], outputs=[out])\n",
    "    return model"
   ]
  },
  {
   "cell_type": "code",
   "execution_count": 6,
   "metadata": {},
   "outputs": [],
   "source": [
    "LEARNING_RATE = 1e-3\n",
    "EPOCHS = 10\n",
    "BATCH_SIZE = 256\n",
    "MOMENTUM = 0.95\n",
    "L1_EXP = [1e-2, 1e-4, 1e-8, 1e-12]"
   ]
  },
  {
   "cell_type": "code",
   "execution_count": 8,
   "metadata": {
    "scrolled": true
   },
   "outputs": [
    {
     "name": "stdout",
     "output_type": "stream",
     "text": [
      "Experiment with Regulizer = 0.010000\n",
      "_________________________________________________________________\n",
      "Layer (type)                 Output Shape              Param #   \n",
      "=================================================================\n",
      "input_1 (InputLayer)         (None, 3072)              0         \n",
      "_________________________________________________________________\n",
      "hidden_layer1 (Dense)        (None, 512)               1573376   \n",
      "_________________________________________________________________\n",
      "hidden_layer2 (Dense)        (None, 256)               131328    \n",
      "_________________________________________________________________\n",
      "hidden_layer3 (Dense)        (None, 128)               32896     \n",
      "_________________________________________________________________\n",
      "output (Dense)               (None, 10)                1290      \n",
      "=================================================================\n",
      "Total params: 1,738,890\n",
      "Trainable params: 1,738,890\n",
      "Non-trainable params: 0\n",
      "_________________________________________________________________\n",
      "Train on 50000 samples, validate on 10000 samples\n",
      "Epoch 1/10\n",
      "50000/50000 [==============================] - 4s 76us/step - loss: 198.8422 - acc: 0.2542 - val_loss: 41.2033 - val_acc: 0.2671\n",
      "Epoch 2/10\n",
      "50000/50000 [==============================] - 3s 56us/step - loss: 19.1487 - acc: 0.1177 - val_loss: 7.2840 - val_acc: 0.1000\n",
      "Epoch 3/10\n",
      "50000/50000 [==============================] - 3s 61us/step - loss: 4.1053 - acc: 0.0994 - val_loss: 2.6442 - val_acc: 0.1000\n",
      "Epoch 4/10\n",
      "50000/50000 [==============================] - 3s 63us/step - loss: 2.4858 - acc: 0.0979 - val_loss: 2.4625 - val_acc: 0.1000\n",
      "Epoch 5/10\n",
      "50000/50000 [==============================] - 3s 62us/step - loss: 2.4626 - acc: 0.0974 - val_loss: 2.4626 - val_acc: 0.1000\n",
      "Epoch 6/10\n",
      "50000/50000 [==============================] - 3s 61us/step - loss: 2.4626 - acc: 0.0969 - val_loss: 2.4626 - val_acc: 0.1000\n",
      "Epoch 7/10\n",
      "50000/50000 [==============================] - 3s 60us/step - loss: 2.4626 - acc: 0.0982 - val_loss: 2.4626 - val_acc: 0.1000\n",
      "Epoch 8/10\n",
      "50000/50000 [==============================] - 3s 58us/step - loss: 2.4626 - acc: 0.0977 - val_loss: 2.4625 - val_acc: 0.1000\n",
      "Epoch 9/10\n",
      "50000/50000 [==============================] - 3s 61us/step - loss: 2.4626 - acc: 0.0971 - val_loss: 2.4627 - val_acc: 0.1000\n",
      "Epoch 10/10\n",
      "50000/50000 [==============================] - 3s 62us/step - loss: 2.4626 - acc: 0.0968 - val_loss: 2.4625 - val_acc: 0.1000\n",
      "Experiment with Regulizer = 0.000100\n",
      "_________________________________________________________________\n",
      "Layer (type)                 Output Shape              Param #   \n",
      "=================================================================\n",
      "input_1 (InputLayer)         (None, 3072)              0         \n",
      "_________________________________________________________________\n",
      "hidden_layer1 (Dense)        (None, 512)               1573376   \n",
      "_________________________________________________________________\n",
      "hidden_layer2 (Dense)        (None, 256)               131328    \n",
      "_________________________________________________________________\n",
      "hidden_layer3 (Dense)        (None, 128)               32896     \n",
      "_________________________________________________________________\n",
      "output (Dense)               (None, 10)                1290      \n",
      "=================================================================\n",
      "Total params: 1,738,890\n",
      "Trainable params: 1,738,890\n",
      "Non-trainable params: 0\n",
      "_________________________________________________________________\n",
      "Train on 50000 samples, validate on 10000 samples\n",
      "Epoch 1/10\n",
      "50000/50000 [==============================] - 4s 71us/step - loss: 6.0207 - acc: 0.2679 - val_loss: 5.8201 - val_acc: 0.3414\n",
      "Epoch 2/10\n",
      "50000/50000 [==============================] - 3s 57us/step - loss: 5.7232 - acc: 0.3649 - val_loss: 5.6424 - val_acc: 0.3757\n",
      "Epoch 3/10\n",
      "50000/50000 [==============================] - 3s 58us/step - loss: 5.5778 - acc: 0.3944 - val_loss: 5.5285 - val_acc: 0.3947\n",
      "Epoch 4/10\n",
      "50000/50000 [==============================] - 3s 59us/step - loss: 5.4586 - acc: 0.4149 - val_loss: 5.4035 - val_acc: 0.4152\n",
      "Epoch 5/10\n",
      "50000/50000 [==============================] - 3s 60us/step - loss: 5.3483 - acc: 0.4301 - val_loss: 5.3135 - val_acc: 0.4265\n",
      "Epoch 6/10\n",
      "50000/50000 [==============================] - 3s 60us/step - loss: 5.2476 - acc: 0.4431 - val_loss: 5.2116 - val_acc: 0.4406\n",
      "Epoch 7/10\n",
      "50000/50000 [==============================] - 3s 59us/step - loss: 5.1513 - acc: 0.4539 - val_loss: 5.1212 - val_acc: 0.4491\n",
      "Epoch 8/10\n",
      "50000/50000 [==============================] - 3s 62us/step - loss: 5.0610 - acc: 0.4646 - val_loss: 5.0657 - val_acc: 0.4413\n",
      "Epoch 9/10\n",
      "50000/50000 [==============================] - 3s 57us/step - loss: 4.9731 - acc: 0.4750 - val_loss: 4.9671 - val_acc: 0.4608\n",
      "Epoch 10/10\n",
      "50000/50000 [==============================] - 3s 56us/step - loss: 4.8915 - acc: 0.4814 - val_loss: 4.8890 - val_acc: 0.4692\n",
      "Experiment with Regulizer = 0.000000\n",
      "_________________________________________________________________\n",
      "Layer (type)                 Output Shape              Param #   \n",
      "=================================================================\n",
      "input_1 (InputLayer)         (None, 3072)              0         \n",
      "_________________________________________________________________\n",
      "hidden_layer1 (Dense)        (None, 512)               1573376   \n",
      "_________________________________________________________________\n",
      "hidden_layer2 (Dense)        (None, 256)               131328    \n",
      "_________________________________________________________________\n",
      "hidden_layer3 (Dense)        (None, 128)               32896     \n",
      "_________________________________________________________________\n",
      "output (Dense)               (None, 10)                1290      \n",
      "=================================================================\n",
      "Total params: 1,738,890\n",
      "Trainable params: 1,738,890\n",
      "Non-trainable params: 0\n",
      "_________________________________________________________________\n",
      "Train on 50000 samples, validate on 10000 samples\n",
      "Epoch 1/10\n",
      "50000/50000 [==============================] - 3s 65us/step - loss: 2.0479 - acc: 0.2714 - val_loss: 1.8743 - val_acc: 0.3423\n",
      "Epoch 2/10\n",
      "50000/50000 [==============================] - 3s 57us/step - loss: 1.8117 - acc: 0.3655 - val_loss: 1.7589 - val_acc: 0.3858\n",
      "Epoch 3/10\n",
      "50000/50000 [==============================] - 3s 56us/step - loss: 1.7283 - acc: 0.3960 - val_loss: 1.6957 - val_acc: 0.4062\n",
      "Epoch 4/10\n",
      "50000/50000 [==============================] - 3s 56us/step - loss: 1.6678 - acc: 0.4175 - val_loss: 1.6530 - val_acc: 0.4228\n",
      "Epoch 5/10\n",
      "50000/50000 [==============================] - 3s 56us/step - loss: 1.6204 - acc: 0.4330 - val_loss: 1.6058 - val_acc: 0.4346\n",
      "Epoch 6/10\n",
      "50000/50000 [==============================] - 3s 59us/step - loss: 1.5811 - acc: 0.4474 - val_loss: 1.6056 - val_acc: 0.4338\n",
      "Epoch 7/10\n",
      "50000/50000 [==============================] - 3s 61us/step - loss: 1.5476 - acc: 0.4567 - val_loss: 1.5469 - val_acc: 0.4528\n",
      "Epoch 8/10\n",
      "50000/50000 [==============================] - 3s 58us/step - loss: 1.5172 - acc: 0.4681 - val_loss: 1.5291 - val_acc: 0.4615\n",
      "Epoch 9/10\n",
      "50000/50000 [==============================] - 3s 56us/step - loss: 1.4897 - acc: 0.4776 - val_loss: 1.5085 - val_acc: 0.4665\n",
      "Epoch 10/10\n",
      "50000/50000 [==============================] - 3s 56us/step - loss: 1.4657 - acc: 0.4855 - val_loss: 1.4861 - val_acc: 0.4761\n",
      "Experiment with Regulizer = 0.000000\n",
      "_________________________________________________________________\n",
      "Layer (type)                 Output Shape              Param #   \n",
      "=================================================================\n",
      "input_1 (InputLayer)         (None, 3072)              0         \n",
      "_________________________________________________________________\n",
      "hidden_layer1 (Dense)        (None, 512)               1573376   \n",
      "_________________________________________________________________\n",
      "hidden_layer2 (Dense)        (None, 256)               131328    \n",
      "_________________________________________________________________\n",
      "hidden_layer3 (Dense)        (None, 128)               32896     \n",
      "_________________________________________________________________\n",
      "output (Dense)               (None, 10)                1290      \n",
      "=================================================================\n",
      "Total params: 1,738,890\n",
      "Trainable params: 1,738,890\n",
      "Non-trainable params: 0\n",
      "_________________________________________________________________\n"
     ]
    },
    {
     "name": "stdout",
     "output_type": "stream",
     "text": [
      "Train on 50000 samples, validate on 10000 samples\n",
      "Epoch 1/10\n",
      "50000/50000 [==============================] - 3s 64us/step - loss: 2.0321 - acc: 0.2733 - val_loss: 1.8570 - val_acc: 0.3405\n",
      "Epoch 2/10\n",
      "50000/50000 [==============================] - 3s 58us/step - loss: 1.8017 - acc: 0.3653 - val_loss: 1.7576 - val_acc: 0.3810\n",
      "Epoch 3/10\n",
      "50000/50000 [==============================] - 3s 63us/step - loss: 1.7203 - acc: 0.3958 - val_loss: 1.7005 - val_acc: 0.4043\n",
      "Epoch 4/10\n",
      "50000/50000 [==============================] - 3s 59us/step - loss: 1.6641 - acc: 0.4143 - val_loss: 1.6418 - val_acc: 0.4266\n",
      "Epoch 5/10\n",
      "50000/50000 [==============================] - 3s 56us/step - loss: 1.6184 - acc: 0.4328 - val_loss: 1.6083 - val_acc: 0.4321\n",
      "Epoch 6/10\n",
      "50000/50000 [==============================] - 3s 62us/step - loss: 1.5787 - acc: 0.4457 - val_loss: 1.5688 - val_acc: 0.4447\n",
      "Epoch 7/10\n",
      "50000/50000 [==============================] - 3s 58us/step - loss: 1.5458 - acc: 0.4572 - val_loss: 1.5548 - val_acc: 0.4497\n",
      "Epoch 8/10\n",
      "50000/50000 [==============================] - 3s 58us/step - loss: 1.5149 - acc: 0.4676 - val_loss: 1.5202 - val_acc: 0.4617\n",
      "Epoch 9/10\n",
      "50000/50000 [==============================] - 3s 66us/step - loss: 1.4860 - acc: 0.4788 - val_loss: 1.5041 - val_acc: 0.4645\n",
      "Epoch 10/10\n",
      "50000/50000 [==============================] - 3s 66us/step - loss: 1.4630 - acc: 0.4858 - val_loss: 1.4919 - val_acc: 0.4700\n"
     ]
    }
   ],
   "source": [
    "results = {}\n",
    "for regulizer_ratio in L1_EXP:\n",
    "    keras.backend.clear_session() # 把舊的 Graph 清掉\n",
    "    print(\"Experiment with Regulizer = %.6f\" % (regulizer_ratio))\n",
    "    model = build_mlp(input_shape=x_train.shape[1:], l1_ratio=regulizer_ratio)\n",
    "    model.summary()\n",
    "    optimizer = keras.optimizers.SGD(lr=LEARNING_RATE, nesterov=True, momentum=MOMENTUM)\n",
    "    model.compile(loss=\"categorical_crossentropy\", metrics=[\"accuracy\"], optimizer=optimizer)\n",
    "\n",
    "    model.fit(x_train, y_train, \n",
    "              epochs=EPOCHS, \n",
    "              batch_size=BATCH_SIZE, \n",
    "              validation_data=(x_test, y_test), \n",
    "              shuffle=True)\n",
    "    \n",
    "    # Collect results\n",
    "    train_loss = model.history.history[\"loss\"]\n",
    "    valid_loss = model.history.history[\"val_loss\"]\n",
    "    train_acc = model.history.history[\"acc\"]\n",
    "    valid_acc = model.history.history[\"val_acc\"]\n",
    "    \n",
    "    exp_name_tag = \"exp-l1-%s\" % str(regulizer_ratio)\n",
    "    results[exp_name_tag] = {'train-loss': train_loss,\n",
    "                             'valid-loss': valid_loss,\n",
    "                             'train-acc': train_acc,\n",
    "                             'valid-acc': valid_acc}"
   ]
  },
  {
   "cell_type": "code",
   "execution_count": 9,
   "metadata": {},
   "outputs": [
    {
     "data": {
      "image/png": "[encoded data removed]",
      "text/plain": [
       "<Figure size 576x432 with 1 Axes>"
      ]
     },
     "metadata": {
      "needs_background": "light"
     },
     "output_type": "display_data"
    },
    {
     "data": {
      "image/png": "[encoded data removed]",
      "text/plain": [
       "<Figure size 576x432 with 1 Axes>"
      ]
     },
     "metadata": {
      "needs_background": "light"
     },
     "output_type": "display_data"
    }
   ],
   "source": [
    "import matplotlib.pyplot as plt\n",
    "%matplotlib inline\n",
    "color_bar = [\"r\", \"g\", \"b\", \"y\", \"m\", \"k\"]\n",
    "\n",
    "plt.figure(figsize=(8,6))\n",
    "for i, cond in enumerate(results.keys()):\n",
    "    plt.plot(range(len(results[cond]['train-loss'])),results[cond]['train-loss'], '-', label=cond, color=color_bar[i])\n",
    "    plt.plot(range(len(results[cond]['valid-loss'])),results[cond]['valid-loss'], '--', label=cond, color=color_bar[i])\n",
    "plt.title(\"Loss\")\n",
    "plt.ylim([0, 5])\n",
    "plt.legend()\n",
    "plt.show()\n",
    "\n",
    "plt.figure(figsize=(8,6))\n",
    "for i, cond in enumerate(results.keys()):\n",
    "    plt.plot(range(len(results[cond]['train-acc'])),results[cond]['train-acc'], '-', label=cond, color=color_bar[i])\n",
    "    plt.plot(range(len(results[cond]['valid-acc'])),results[cond]['valid-acc'], '--', label=cond, color=color_bar[i])\n",
    "plt.title(\"Accuracy\")\n",
    "plt.legend()\n",
    "plt.show()"
   ]
  },
  {
   "cell_type": "code",
   "execution_count": null,
   "metadata": {},
   "outputs": [],
   "source": []
  }
 ],
 "metadata": {
  "kernelspec": {
   "display_name": "Python 3",
   "language": "python",
   "name": "python3"
  },
  "language_info": {
   "codemirror_mode": {
    "name": "ipython",
    "version": 3
   },
   "file_extension": ".py",
   "mimetype": "text/x-python",
   "name": "python",
   "nbconvert_exporter": "python",
   "pygments_lexer": "ipython3",
   "version": "3.7.3"
  }
 },
 "nbformat": 4,
 "nbformat_minor": 2
}
